{
 "cells": [
  {
   "cell_type": "markdown",
   "id": "4b12cc8e-2aa4-4960-9101-626cab87ecd6",
   "metadata": {},
   "source": [
    "# Confidence Intervals for Single Normal Population"
   ]
  },
  {
   "cell_type": "markdown",
   "id": "734fc5eb-09eb-4a07-a867-feafe93e41bf",
   "metadata": {},
   "source": [
    "Here we assume that a random sample $(X_1,\\ldots,X_n)$ is drawn from a $N(\\mu, \\sigma^2)$ distribution. \n"
   ]
  },
  {
   "cell_type": "markdown",
   "id": "44efb2e3-8add-469c-bc62-a8aedc25e08a",
   "metadata": {},
   "source": [
    "## Confidence Interval for $\\mu$ with known $\\sigma^2$"
   ]
  },
  {
   "cell_type": "markdown",
   "id": "72539024-a05c-4977-804c-4934cb6af3f9",
   "metadata": {},
   "source": [
    "A $100(1-\\alpha)\\%$ confidence interval for $\\mu$ with a **known** $\\sigma^2$ is:\n",
    "$\\big[\\bar{X} - z_{1-\\alpha/2}*\\frac{\\sigma}{\\sqrt n}, \\bar{X} + z_{1-\\alpha/2}*\\frac{\\sigma}{\\sqrt n}\\big]$."
   ]
  },
  {
   "cell_type": "markdown",
   "id": "e743e420-7f23-4c9d-99fb-1ddd7663fd89",
   "metadata": {},
   "source": [
    "Let's solve the question we covered in the class (visit lecture notes for the problem definition)."
   ]
  },
  {
   "cell_type": "code",
   "execution_count": 82,
   "id": "3f7cbd39-b972-4bbc-8a2c-eddf447a5493",
   "metadata": {},
   "outputs": [],
   "source": [
    "import numpy as np\n",
    "import scipy.stats as stats\n",
    "\n",
    "def CI_mean(X, n, sigma, confidence = 0.95, raw_data = True):\n",
    "   \n",
    "    alpha = 1 - confidence\n",
    "    \n",
    "    if raw_data == True:\n",
    "        X = np.asarray(X)\n",
    "        n = X.shape[0]\n",
    "        Xbar = np.mean(X)\n",
    "    else:\n",
    "        Xbar = X\n",
    "        \n",
    "    quantile = stats.norm.ppf(q = 1 - alpha / 2)\n",
    "    \n",
    "    lower = np.round(Xbar - quantile * sigma / np.sqrt(n),4)\n",
    "    upper = np.round(Xbar + quantile * sigma / np.sqrt(n),4)\n",
    "    \n",
    "    confidence_interval = (lower, upper)\n",
    "    \n",
    "    print(\"A %.2d %% Confidence Interval for \\u03BC\" % (confidence*100))\n",
    "\n",
    "    return confidence_interval"
   ]
  },
  {
   "cell_type": "code",
   "execution_count": 83,
   "id": "581c7905-aa9a-4b3e-8119-ff100afb1862",
   "metadata": {},
   "outputs": [
    {
     "name": "stdout",
     "output_type": "stream",
     "text": [
      "A 95 % Confidence Interval for μ\n"
     ]
    },
    {
     "data": {
      "text/plain": [
       "(16.6634, 23.1966)"
      ]
     },
     "execution_count": 83,
     "metadata": {},
     "output_type": "execute_result"
    }
   ],
   "source": [
    "CI_mean(X = 19.93, n = 9, sigma = 5, confidence = 0.95, raw_data = False)"
   ]
  },
  {
   "cell_type": "markdown",
   "id": "b697b2ca-4190-47f1-81c3-7cfaceab7027",
   "metadata": {},
   "source": [
    "## Confidence Interval for $\\sigma^2$ with known $\\mu$"
   ]
  },
  {
   "cell_type": "markdown",
   "id": "f11833a4-c658-4331-9990-afcbac43d160",
   "metadata": {},
   "source": [
    "A $100(1-\\alpha)\\%$ confidence interval for $\\sigma^2$ with a **known** $\\mu$ is:\n",
    "$\\big[\\frac{\\sum_{i=1}^{n}(X_i-\\mu)^2}{\\chi^2_{1-\\alpha/2}(n)}, \\frac{\\sum_{i=1}^{n}(X_i-\\mu)^2}{\\chi^2_{\\alpha/2}(n)}\\big]$."
   ]
  },
  {
   "cell_type": "markdown",
   "id": "2ba2da81-77a4-4d6e-ba1c-6ba0a617ab52",
   "metadata": {},
   "source": [
    "Let's solve the question we covered in the class (visit lecture notes for the problem definition)."
   ]
  },
  {
   "cell_type": "code",
   "execution_count": 90,
   "id": "07c59233-6bc6-4f7d-8a55-da419ccc3c08",
   "metadata": {},
   "outputs": [],
   "source": [
    "import numpy as np\n",
    "import scipy.stats as stats\n",
    "\n",
    "def CI_var(X, n, mu, confidence = 0.95, raw_data = True):\n",
    "   \n",
    "    alpha = 1 - confidence\n",
    "    \n",
    "    if raw_data == True:\n",
    "        X = np.asarray(X)\n",
    "        n = X.shape[0]\n",
    "        SS = np.sum((X-mu)**2)\n",
    "    else:\n",
    "        SS = X\n",
    "    \n",
    "    quantile_l = stats.chi2.ppf(q = alpha / 2, df = n)\n",
    "    quantile_u = stats.chi2.ppf(q = 1 - alpha / 2, df = n)\n",
    "    \n",
    "    lower = np.round(SS / quantile_u,4)\n",
    "    upper = np.round(SS / quantile_l,4)\n",
    "    \n",
    "    confidence_interval = (lower, upper)\n",
    "    \n",
    "    print(\"A %.2d %% Confidence Interval for \\u03C3^2\" % (confidence*100))\n",
    "\n",
    "    return confidence_interval"
   ]
  },
  {
   "cell_type": "code",
   "execution_count": 92,
   "id": "13bb76da-2a93-4690-99ca-799bbcd61f46",
   "metadata": {},
   "outputs": [
    {
     "name": "stdout",
     "output_type": "stream",
     "text": [
      "A 95 % Confidence Interval for σ^2\n"
     ]
    },
    {
     "data": {
      "text/plain": [
       "(4.626, 32.5879)"
      ]
     },
     "execution_count": 92,
     "metadata": {},
     "output_type": "execute_result"
    }
   ],
   "source": [
    "CI_var(X = 88, n = 9, mu = 5, confidence = 0.95, raw_data = False)"
   ]
  },
  {
   "cell_type": "markdown",
   "id": "5369e001-1391-482d-b7de-e0f5a207904a",
   "metadata": {},
   "source": [
    "## Confidence Interval for $\\mu$ with unknown $\\sigma^2$"
   ]
  },
  {
   "cell_type": "markdown",
   "id": "ddf9ea9f-a797-4637-8f24-62cc052f7911",
   "metadata": {},
   "source": [
    "A $100(1-\\alpha)\\%$ confidence interval for $\\mu$ with a **unknown** $\\sigma^2$ is:\n",
    "$\\big[\\bar{X} - t_{(1-\\alpha/2)}(n-1)*\\frac{s}{\\sqrt n}, \\bar{X} + t_{(1-\\alpha/2)}(n)*\\frac{s}{\\sqrt n}\\big]$."
   ]
  },
  {
   "cell_type": "markdown",
   "id": "bf8bb16b-433a-4ef3-85d4-14579072baa9",
   "metadata": {},
   "source": [
    "Let's solve the question we covered in the class (visit lecture notes for the problem definition)."
   ]
  },
  {
   "cell_type": "code",
   "execution_count": 94,
   "id": "8ed5f3a2-13d0-49b6-8dbf-df760f42723c",
   "metadata": {},
   "outputs": [],
   "source": [
    "import numpy as np\n",
    "import scipy.stats as stats\n",
    "\n",
    "def CI_mean(X, n, sd, confidence = 0.95, raw_data = True):\n",
    "   \n",
    "    alpha = 1 - confidence\n",
    "    \n",
    "    if raw_data == True:\n",
    "        X = np.asarray(X)\n",
    "        n = X.shape[0]\n",
    "        Xbar = np.mean(X)\n",
    "        sd = np.std(X, ddof = 1)\n",
    "    else:\n",
    "        Xbar = X\n",
    "        sd = sd\n",
    "        \n",
    "    quantile = stats.t.ppf(q = 1 - alpha / 2, df = (n-1))\n",
    "    \n",
    "    lower = np.round(Xbar - quantile * sd / np.sqrt(n),4)\n",
    "    upper = np.round(Xbar + quantile * sd / np.sqrt(n),4)\n",
    "    \n",
    "    confidence_interval = (lower, upper)\n",
    "    \n",
    "    print(\"A %.2d %% Confidence Interval for \\u03BC\" % (confidence*100))\n",
    "\n",
    "    return confidence_interval"
   ]
  },
  {
   "cell_type": "code",
   "execution_count": 95,
   "id": "c01094c8-4a08-44d4-be16-3458596b07e7",
   "metadata": {},
   "outputs": [
    {
     "name": "stdout",
     "output_type": "stream",
     "text": [
      "A 95 % Confidence Interval for μ\n"
     ]
    },
    {
     "data": {
      "text/plain": [
       "(568.7594, 598.5206)"
      ]
     },
     "execution_count": 95,
     "metadata": {},
     "output_type": "execute_result"
    }
   ],
   "source": [
    "CI_mean(X = 583.64, n = 11, sd = 22.15, confidence = 0.95, raw_data = False)"
   ]
  },
  {
   "cell_type": "markdown",
   "id": "4c6054f8-9c36-4ba0-b418-309a121b2ca2",
   "metadata": {},
   "source": [
    "## Confidence Interval for $\\sigma^2$ with unknown $\\mu$"
   ]
  },
  {
   "cell_type": "markdown",
   "id": "db8455fa-9e32-448b-8b3e-4cd9e321e2dc",
   "metadata": {},
   "source": [
    "A $100(1-\\alpha)\\%$ confidence interval for $\\sigma^2$ with a **unknown** $\\mu$ is:\n",
    "$\\big[\\frac{\\sum_{i=1}^{n}(X_i-\\bar X)^2}{\\chi^2_{1-\\alpha/2}(n-1)}, \\frac{\\sum_{i=1}^{n}(X_i-\\bar X)^2}{\\chi^2_{\\alpha/2}(n-1)}\\big]$."
   ]
  },
  {
   "cell_type": "markdown",
   "id": "f046d971-c2d3-477a-bb53-66489c2a48f6",
   "metadata": {},
   "source": [
    "Let's solve the question we covered in the class (visit lecture notes for the problem definition)."
   ]
  },
  {
   "cell_type": "code",
   "execution_count": 97,
   "id": "b6c2ee7f-b53c-4cb4-a217-d500acd89a5a",
   "metadata": {},
   "outputs": [],
   "source": [
    "import numpy as np\n",
    "import scipy.stats as stats\n",
    "\n",
    "def CI_var(X, n, confidence = 0.95, raw_data = True):\n",
    "   \n",
    "    alpha = 1 - confidence\n",
    "    \n",
    "    if raw_data == True:\n",
    "        X = np.asarray(X)\n",
    "        n = X.shape[0]\n",
    "        Xbar = np.mean(X)\n",
    "        s  = np.std(X, ddof = 1)\n",
    "        SS = s * (n-1)\n",
    "    else:\n",
    "        SS = X\n",
    "    \n",
    "    quantile_l = stats.chi2.ppf(q = alpha / 2, df = (n-1))\n",
    "    quantile_u = stats.chi2.ppf(q = 1 - alpha / 2, df = (n-1))\n",
    "    \n",
    "    lower = np.round(SS / quantile_u,4)\n",
    "    upper = np.round(SS / quantile_l,4)\n",
    "    \n",
    "    confidence_interval = (lower, upper)\n",
    "    \n",
    "    print(\"A %.2d %% Confidence Interval for \\u03C3^2\" % (confidence*100))\n",
    "\n",
    "    return confidence_interval"
   ]
  },
  {
   "cell_type": "code",
   "execution_count": 98,
   "id": "56206302-88ad-4fb6-b360-f27c1010ea67",
   "metadata": {},
   "outputs": [
    {
     "name": "stdout",
     "output_type": "stream",
     "text": [
      "A 90 % Confidence Interval for σ^2\n"
     ]
    },
    {
     "data": {
      "text/plain": [
       "(6.1072, 24.5712)"
      ]
     },
     "execution_count": 98,
     "metadata": {},
     "output_type": "execute_result"
    }
   ],
   "source": [
    "CI_var(X = 128.41, n = 13, confidence = 0.90, raw_data = False)"
   ]
  }
 ],
 "metadata": {
  "kernelspec": {
   "display_name": "Python 3 (ipykernel)",
   "language": "python",
   "name": "python3"
  },
  "language_info": {
   "codemirror_mode": {
    "name": "ipython",
    "version": 3
   },
   "file_extension": ".py",
   "mimetype": "text/x-python",
   "name": "python",
   "nbconvert_exporter": "python",
   "pygments_lexer": "ipython3",
   "version": "3.8.12"
  }
 },
 "nbformat": 4,
 "nbformat_minor": 5
}
