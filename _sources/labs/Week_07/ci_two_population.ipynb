{
 "cells": [
  {
   "cell_type": "markdown",
   "id": "db787647-f40a-4ee6-8a12-aad3d0181144",
   "metadata": {},
   "source": [
    "# Confidence Intervals for Two Normal Populations"
   ]
  },
  {
   "cell_type": "markdown",
   "id": "30c13c8b-5958-4ed1-b022-eae32bb9447e",
   "metadata": {},
   "source": [
    "Here we assume that a random sample $(X_{11},\\ldots,X_{1n})$ is drawn from a $N(\\mu_1, \\sigma_1^2)$ distribution and a random sample $(X_{21},\\ldots,X_{2n})$ is drawn from a $N(\\mu_2, \\sigma_2^2)$ distribution."
   ]
  },
  {
   "cell_type": "markdown",
   "id": "202a69c3-269f-417b-a800-f170c685b980",
   "metadata": {},
   "source": [
    "## Confidence Interval for $\\mu_1-\\mu_2$ with known $\\sigma_1^2$ and $\\sigma_2^2$ "
   ]
  },
  {
   "cell_type": "markdown",
   "id": "ddae60ff-f24d-4bf8-8830-b2d80c085091",
   "metadata": {},
   "source": [
    "A $100(1-\\alpha)\\%$ confidence interval for $\\mu_1-\\mu_2$ with **known** $\\sigma_1^2$ and $\\sigma_2^2$ is:\n",
    "$\\bigg[(\\bar{X}_1-\\bar{X}_2) - z_{(1-\\alpha/2)}*\\sqrt{ \\frac{\\sigma_1^2}{n_1} + \\frac{\\sigma_2^2}{n_2}}, (\\bar{X}_1-\\bar{X}_2) + z_{(1-\\alpha/2)}*\\sqrt{ \\frac{\\sigma_1^2}{n_1} + \\frac{\\sigma_2^2}{n_2}}\\bigg]$."
   ]
  },
  {
   "cell_type": "markdown",
   "id": "e28b7745-ece2-41f6-9b83-573cdc8e0c57",
   "metadata": {},
   "source": [
    "Let's solve the question we covered in the class (visit lecture notes for the problem definition)."
   ]
  },
  {
   "cell_type": "code",
   "execution_count": 49,
   "id": "64174265-50c6-466b-9b78-0d61170a5df6",
   "metadata": {},
   "outputs": [],
   "source": [
    "import numpy as np\n",
    "import scipy.stats as stats\n",
    "\n",
    "def CI_mean(X1, X2, n1, n2, sigma21, sigma22, confidence = 0.95, raw_data = True):\n",
    "   \n",
    "    alpha = 1 - confidence\n",
    "    \n",
    "    if raw_data:\n",
    "        X1 = np.asarray(X1)\n",
    "        X2 = np.asarray(X2)\n",
    "        n1 = X1.shape[0]\n",
    "        n2 = X2.shape[0]\n",
    "        Xbar1 = np.mean(X1)\n",
    "        Xbar2 = np.mean(X2)\n",
    "    else:\n",
    "        Xbar1 = X1\n",
    "        Xbar2 = X2\n",
    "    \n",
    "    sigma1 = np.sqrt(sigma21)\n",
    "    sigma2 = np.sqrt(sigma22)\n",
    "    \n",
    "    quantile = stats.norm.ppf(q = 1 - alpha / 2)\n",
    "    \n",
    "    lower = np.round((Xbar1-Xbar2) - quantile * np.sqrt((sigma1**2 / n1) + (sigma2**2/n2)),4)\n",
    "    upper = np.round((Xbar1-Xbar2) + quantile * np.sqrt((sigma1**2 / n1) + (sigma2**2/n2)),4)\n",
    "    \n",
    "    confidence_interval = (lower, upper)\n",
    "    \n",
    "    print(\"A %.2d %% Confidence Interval for \\u03BC_1 -  \\u03BC_2\" % (confidence*100))\n",
    "\n",
    "    return confidence_interval"
   ]
  },
  {
   "cell_type": "code",
   "execution_count": 50,
   "id": "93f8462a-63e2-45b9-8685-dceed835bb51",
   "metadata": {},
   "outputs": [],
   "source": [
    "X1 = np.array([32, 37, 35, 28, 41, 44, 35, 31, 34])\n",
    "X2 = np.array([35, 31, 29, 25, 34, 40, 27, 32, 31])"
   ]
  },
  {
   "cell_type": "code",
   "execution_count": 51,
   "id": "80655d75-d2a5-44be-9aff-aeb5851e1a11",
   "metadata": {},
   "outputs": [
    {
     "name": "stdout",
     "output_type": "stream",
     "text": [
      "A 95 % Confidence Interval for μ_1 -  μ_2\n"
     ]
    },
    {
     "data": {
      "text/plain": [
       "(-0.667, 8.0003)"
      ]
     },
     "execution_count": 51,
     "metadata": {},
     "output_type": "execute_result"
    }
   ],
   "source": [
    "CI_mean(X1, X2, n1 = 9, n2 = 9, sigma21 = 22, sigma22 = 22, confidence = 0.95, raw_data = True)"
   ]
  },
  {
   "cell_type": "markdown",
   "id": "8a55ac51-4743-466c-918e-4dfa4a9168bf",
   "metadata": {},
   "source": [
    "## Confidence Interval for $\\mu_1-\\mu_2$ with unknown but equal $\\sigma_1^2$ and $\\sigma_2^2$ "
   ]
  },
  {
   "cell_type": "markdown",
   "id": "5cdd3ab0-d963-4b64-ae8f-70260797df57",
   "metadata": {},
   "source": [
    "A $100(1-\\alpha)\\%$ confidence interval for $\\mu_1-\\mu_2$ with **unknown but equal** $\\sigma_1^2$ and $\\sigma_2^2$ is:    \n",
    "$\\bigg[(\\bar{X}_1-\\bar{X}_2) - t_{(1-\\alpha/2)}(n-1)*\\sqrt{ \\frac{s_1^2}{n_1} + \\frac{s_2^2}{n_2}}, (\\bar{X}_1-\\bar{X}_2) + t_{(1-\\alpha/2)}(n-1)*\\sqrt{ \\frac{s_1^2}{n_1} + \\frac{s_2^2}{n_2}}\\bigg]$."
   ]
  },
  {
   "cell_type": "markdown",
   "id": "5d38ff39-6b14-4c2d-a987-d3dc4fbae317",
   "metadata": {},
   "source": [
    "Let's solve the question we covered in the class (visit lecture notes for the problem definition)."
   ]
  },
  {
   "cell_type": "code",
   "execution_count": 62,
   "id": "5fe7a055-6041-486d-87ed-ebbafff6f564",
   "metadata": {},
   "outputs": [],
   "source": [
    "import numpy as np\n",
    "import scipy.stats as stats\n",
    "\n",
    "def CI_mean(X1, X2, n1, n2, s21, s22, confidence = 0.95, raw_data = True):\n",
    "   \n",
    "    alpha = 1 - confidence\n",
    "    \n",
    "    if raw_data:\n",
    "        X1 = np.asarray(X1)\n",
    "        X2 = np.asarray(X2)\n",
    "        n1 = X1.shape[0]\n",
    "        n2 = X2.shape[0]\n",
    "        Xbar1 = np.mean(X1)\n",
    "        Xbar2 = np.mean(X2)\n",
    "        s21 = np.var(X1, ddof=1)\n",
    "        s22 = np.var(X1, ddof=1)\n",
    "    else:\n",
    "        Xbar1 = X1\n",
    "        Xbar2 = X2\n",
    "    \n",
    "    sp = np.sqrt(((n1-1)*s21 + (n2-1)*s22) / (n1+n2-2))\n",
    "    \n",
    "    quantile = stats.t.ppf(q = 1 - alpha / 2, df = (n1 + n2-2))\n",
    "    \n",
    "    lower = np.round((Xbar1-Xbar2) - quantile * sp*np.sqrt((1/ n1) + (1/n2)),4)\n",
    "    upper = np.round((Xbar1-Xbar2) + quantile * sp*np.sqrt((1/ n1) + (1/n2)),4)\n",
    "    \n",
    "    confidence_interval = (lower, upper)\n",
    "    \n",
    "    print(\"A %.2d %% Confidence Interval for \\u03BC_1 -  \\u03BC_2\" % (confidence*100))\n",
    "\n",
    "    return confidence_interval"
   ]
  },
  {
   "cell_type": "code",
   "execution_count": 63,
   "id": "0375ad93-d56c-4745-8fc7-31e9e14267d0",
   "metadata": {},
   "outputs": [
    {
     "name": "stdout",
     "output_type": "stream",
     "text": [
      "A 90 % Confidence Interval for μ_1 -  μ_2\n"
     ]
    },
    {
     "data": {
      "text/plain": [
       "(305.7888, 854.2112)"
      ]
     },
     "execution_count": 63,
     "metadata": {},
     "output_type": "execute_result"
    }
   ],
   "source": [
    "CI_mean(X1 = 10250, X2 = 9670, n1 = 17, n2 = 15, s21 = 500**2, s22 = 400**2, confidence = 0.90, raw_data = False)"
   ]
  },
  {
   "cell_type": "markdown",
   "id": "e677cda1-a8a3-482c-89ff-803304d6769a",
   "metadata": {},
   "source": [
    "## Confidence interval for the ratio of variances"
   ]
  },
  {
   "cell_type": "markdown",
   "id": "b230ee13-7d1f-4677-bf52-5bdc161ad8cd",
   "metadata": {},
   "source": [
    "A $100(1-\\alpha)\\%$ confidence interval for $\\frac{\\sigma_1^2}{\\sigma_2^2}$ is:\n",
    "$\\bigg[\\frac{\\sigma_1^2/\\sigma_2^2}{F_{(1-\\alpha/2)}(n_1-1,n_2-1)}, \\frac{\\sigma_1^2/\\sigma_2^2}{F_{(\\alpha/2)}(n_1-1,n_2-1)}\\bigg]$."
   ]
  },
  {
   "cell_type": "markdown",
   "id": "6eaac769-fcfd-4063-9839-4b4e7372ffd8",
   "metadata": {},
   "source": [
    "Let's solve the question we covered in the class (visit lecture notes for the problem definition)."
   ]
  },
  {
   "cell_type": "code",
   "execution_count": 60,
   "id": "472677e7-0c17-45c9-a6f4-f7f4efd16119",
   "metadata": {},
   "outputs": [],
   "source": [
    "import numpy as np\n",
    "import scipy.stats as stats\n",
    "\n",
    "def CI_var(X1, X2, n1, n2, confidence = 0.95, raw_data = True):\n",
    "   \n",
    "    alpha = 1 - confidence\n",
    "    \n",
    "    if raw_data == True:\n",
    "        X1 = np.asarray(X1)\n",
    "        X2 = np.asarray(X2)\n",
    "        n1 = X1.shape[0]\n",
    "        n2 = X2.shape[0]\n",
    "        s21 = np.std(X1, ddof = 1)\n",
    "        s22 = np.std(X2, ddof = 1)\n",
    "    else:\n",
    "        s21 = X1\n",
    "        s22 = X2\n",
    "        \n",
    "    quantile_l = stats.f.ppf(q = alpha / 2, dfn = (n1-1), dfd = (n2-2))\n",
    "    quantile_u = stats.f.ppf(q = 1 - alpha / 2, dfn = (n1-1), dfd = (n2-2))\n",
    "    \n",
    "    lower = np.round((s22/s21)/quantile_u,4)\n",
    "    upper = np.round((s22/s21)/quantile_l,4)\n",
    "    \n",
    "    confidence_interval = (lower, upper)\n",
    "    \n",
    "    print(\"A %.2d %% Confidence Interval for \\u03C3_1^2 /\\u03C3_2^2  \" % (confidence*100))\n",
    "\n",
    "    return confidence_interval"
   ]
  },
  {
   "cell_type": "code",
   "execution_count": 61,
   "id": "02e4d2a7-f7d8-4b0f-b1d8-1ecc066f0372",
   "metadata": {},
   "outputs": [
    {
     "name": "stdout",
     "output_type": "stream",
     "text": [
      "A 95 % Confidence Interval for σ_1^2 /σ_2^2  \n"
     ]
    },
    {
     "data": {
      "text/plain": [
       "(0.2171, 2.652)"
      ]
     },
     "execution_count": 61,
     "metadata": {},
     "output_type": "execute_result"
    }
   ],
   "source": [
    "CI_var(X1 = 71, X2 = 52, n1 = 11, n2 = 14, confidence = 0.95, raw_data = False)"
   ]
  },
  {
   "cell_type": "markdown",
   "id": "b2effd95",
   "metadata": {},
   "source": [
    "##### Session Info"
   ]
  },
  {
   "cell_type": "code",
   "execution_count": null,
   "id": "1a7441e6",
   "metadata": {},
   "outputs": [],
   "source": [
    "import session_info\n",
    "session_info.show()"
   ]
  }
 ],
 "metadata": {
  "kernelspec": {
   "display_name": "Python 3 (ipykernel)",
   "language": "python",
   "name": "python3"
  },
  "language_info": {
   "codemirror_mode": {
    "name": "ipython",
    "version": 3
   },
   "file_extension": ".py",
   "mimetype": "text/x-python",
   "name": "python",
   "nbconvert_exporter": "python",
   "pygments_lexer": "ipython3",
   "version": "3.8.12"
  }
 },
 "nbformat": 4,
 "nbformat_minor": 5
}
