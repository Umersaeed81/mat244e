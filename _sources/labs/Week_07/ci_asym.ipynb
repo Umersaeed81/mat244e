{
 "cells": [
  {
   "cell_type": "markdown",
   "id": "03003346-a249-4000-b84c-f7c66d762e8d",
   "metadata": {},
   "source": [
    "# Asymptotic Confidence Intervals"
   ]
  },
  {
   "cell_type": "markdown",
   "id": "c42fc082-73ad-449c-9c8f-9d455c1492d3",
   "metadata": {},
   "source": [
    "## Asymptotic Confidence Interval for $\\mu$ "
   ]
  },
  {
   "cell_type": "markdown",
   "id": "b8ecf57d-3ce5-4978-9bf1-404b02cc6585",
   "metadata": {},
   "source": [
    "A $100(1-\\alpha)\\%$ **asymptotic** confidence interval for $\\mu$ with a **unknown** $\\sigma^2$ is:\n",
    "$\\big[\\bar{X} - z_{1-\\alpha/2}*\\frac{s}{\\sqrt n}, \\bar{X} + z_{1-\\alpha/2}*\\frac{s}{\\sqrt n}\\big]$."
   ]
  },
  {
   "cell_type": "markdown",
   "id": "c149fbe5-f4c3-4775-ae61-24cab7ffb47f",
   "metadata": {},
   "source": [
    "Here is a simulation study example ([code main source](http://web.stanford.edu/class/stats110/notes/Chapter5/Large_sample_CI.html))."
   ]
  },
  {
   "cell_type": "code",
   "execution_count": 14,
   "id": "5f799e81-5a8f-4c20-b802-384bb842de9f",
   "metadata": {},
   "outputs": [],
   "source": [
    "import numpy as np\n",
    "import matplotlib.pyplot as plt\n",
    "from scipy.stats import norm, expon\n",
    "\n",
    "def CI(X, confidence=0.95):\n",
    "    alpha = 1 - confidence\n",
    "    X = np.asarray(X)\n",
    "    n = X.shape[0]\n",
    "    Xbar = np.mean(X)\n",
    "    s = np.std(X) * np.sqrt(n / (n-1)) # when n is large this factor\n",
    "                                       # have little effect\n",
    "    quantile = norm.ppf(1 - alpha /  2)\n",
    "    lower = Xbar - quantile * s / np.sqrt(n)\n",
    "    upper = Xbar + quantile * s / np.sqrt(n)\n",
    "    \n",
    "    return lower, upper\n",
    "\n",
    "myrv = expon(scale=4)"
   ]
  },
  {
   "cell_type": "code",
   "execution_count": 16,
   "id": "e7f93a7c-b08f-4205-848f-f5fdf196f7a0",
   "metadata": {},
   "outputs": [
    {
     "data": {
      "text/plain": [
       "Text(0.5, 1.0, '94 of 100 cover the true mean')"
      ]
     },
     "execution_count": 16,
     "metadata": {},
     "output_type": "execute_result"
    },
    {
     "data": {
      "image/png": "[encoded data removed]",
      "text/plain": [
       "<Figure size 720x576 with 1 Axes>"
      ]
     },
     "metadata": {
      "needs_background": "light"
     },
     "output_type": "display_data"
    }
   ],
   "source": [
    "ninterval = 100\n",
    "f = plt.figure(figsize=(10, 8))\n",
    "ax = f.gca()\n",
    "covered = 0\n",
    "for i in range(ninterval):\n",
    "    X = myrv.rvs(size=(100,))\n",
    "    L, U = CI(X, confidence=0.9)\n",
    "    cover = (L < myrv.mean()) * (U > myrv.mean())\n",
    "    ax.plot([L, U], [i, i], color={True:'blue', False:'red'}[cover])\n",
    "    ax.axvline(myrv.mean(), c='k', linestyle='--')\n",
    "    covered += cover\n",
    "ax.set_title('%d of %d cover the true mean' % (covered, ninterval))"
   ]
  },
  {
   "cell_type": "markdown",
   "id": "25e8907f-c277-4b2b-81a6-332d6ef6091e",
   "metadata": {},
   "source": [
    "## Asymptotic Confidence Interval for Population Proportion p "
   ]
  },
  {
   "cell_type": "markdown",
   "id": "2aa6deb9-b194-4f26-8ff1-a5ef89da37db",
   "metadata": {},
   "source": [
    "A $100(1-\\alpha)\\%$ **asymptotic** confidence interval for p is:\n",
    "$\\big[\\hat{p} - z_{1-\\alpha/2}*\\sqrt\\frac{\\hat{p}(1-\\hat{p})}{n}, \\bar{X} + z_{1-\\alpha/2}*\\frac{s}{\\sqrt n}\\big]$."
   ]
  },
  {
   "cell_type": "code",
   "execution_count": 18,
   "id": "5331ee3c-e4af-4a42-84dc-e4d760308a7a",
   "metadata": {},
   "outputs": [
    {
     "ename": "ModuleNotFoundError",
     "evalue": "No module named 'statsmodels'",
     "output_type": "error",
     "traceback": [
      "\u001b[0;31m---------------------------------------------------------------------------\u001b[0m",
      "\u001b[0;31mModuleNotFoundError\u001b[0m                       Traceback (most recent call last)",
      "\u001b[0;32m/var/folders/q2/wd_1zr312hs910q7lbs8tg4h0000gn/T/ipykernel_2845/1982971878.py\u001b[0m in \u001b[0;36m<module>\u001b[0;34m\u001b[0m\n\u001b[0;32m----> 1\u001b[0;31m \u001b[0;32mimport\u001b[0m \u001b[0mstatsmodels\u001b[0m \u001b[0;32mas\u001b[0m \u001b[0msm\u001b[0m\u001b[0;34m\u001b[0m\u001b[0;34m\u001b[0m\u001b[0m\n\u001b[0m\u001b[1;32m      2\u001b[0m \u001b[0;32mfrom\u001b[0m \u001b[0mstatsmodels\u001b[0m\u001b[0;34m.\u001b[0m\u001b[0mstats\u001b[0m\u001b[0;34m.\u001b[0m\u001b[0mproportion\u001b[0m \u001b[0;32mimport\u001b[0m \u001b[0mproportion_confint\u001b[0m\u001b[0;34m\u001b[0m\u001b[0;34m\u001b[0m\u001b[0m\n",
      "\u001b[0;31mModuleNotFoundError\u001b[0m: No module named 'statsmodels'"
     ]
    }
   ],
   "source": [
    "import statsmodels as sm\n",
    "from statsmodels.stats.proportion import proportion_confint   "
   ]
  },
  {
   "cell_type": "code",
   "execution_count": 46,
   "id": "0587e153-d025-4930-bd14-a24f0dcd3905",
   "metadata": {},
   "outputs": [
    {
     "data": {
      "text/plain": [
       "(0.3134368253908742, 0.5327170207629719)"
      ]
     },
     "execution_count": 46,
     "metadata": {},
     "output_type": "execute_result"
    }
   ],
   "source": [
    "proportion_confint(count = 33, nobs = 78, alpha=0.05, method='normal')"
   ]
  },
  {
   "cell_type": "markdown",
   "id": "548aceff",
   "metadata": {},
   "source": [
    "##### Session Info"
   ]
  },
  {
   "cell_type": "code",
   "execution_count": null,
   "id": "7944754e",
   "metadata": {},
   "outputs": [],
   "source": [
    "import session_info\n",
    "session_info.show()"
   ]
  }
 ],
 "metadata": {
  "kernelspec": {
   "display_name": "Python 3 (ipykernel)",
   "language": "python",
   "name": "python3"
  },
  "language_info": {
   "codemirror_mode": {
    "name": "ipython",
    "version": 3
   },
   "file_extension": ".py",
   "mimetype": "text/x-python",
   "name": "python",
   "nbconvert_exporter": "python",
   "pygments_lexer": "ipython3",
   "version": "3.10.0"
  }
 },
 "nbformat": 4,
 "nbformat_minor": 5
}
