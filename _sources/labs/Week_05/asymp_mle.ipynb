{
 "cells": [
  {
   "cell_type": "markdown",
   "id": "8274fb33-1476-4e4c-a8fc-4474983c4b13",
   "metadata": {},
   "source": [
    "# Asymptotic distribution of MLEs"
   ]
  },
  {
   "cell_type": "markdown",
   "id": "8e233271-fb93-496b-b34d-f0e4d2abeaba",
   "metadata": {},
   "source": [
    "In class, we have seen that the **asymptotic distribution** of a maximum likelihood estimator $\\hat{\\theta}_{MLE}$ for a parameter $\\theta$ is $\\hat{\\theta}_{MLE} \\sim N(\\theta, CRLB)$. \n",
    "In class, we have shown that the maximum likelihood estimator $\\hat{\\theta}_{MLE}$ for the scale parameter $\\theta$ of Gamma distribution, when the shape parameter $\\kappa$ is known is: $\\hat{\\theta}_{MLE}=\\frac{\\bar{X}}{\\kappa}$, where its asymptotic distribution is normal distribution with mean $\\theta$ and variance $\\frac{\\theta^{2}}{n\\kappa}$. Let's investigate how the asymptotic distribution of $\\hat{\\theta}_{MLE}$ changes with respec to sample size $n$, when $\\kappa=1$."
   ]
  },
  {
   "cell_type": "code",
   "execution_count": 1,
   "id": "7aa809dd-0268-40da-8440-bd1e7c35894f",
   "metadata": {},
   "outputs": [],
   "source": [
    "# import required libraries\n",
    "import numpy as np\n",
    "import matplotlib.pyplot as plt\n",
    "import ipywidgets as widgets\n",
    "from IPython.display import display"
   ]
  },
  {
   "cell_type": "code",
   "execution_count": 9,
   "id": "3b4338bd-17b4-4f00-bcda-66c9d943f4ee",
   "metadata": {},
   "outputs": [],
   "source": [
    "# define a function\n",
    "def mle_gamma_dist_theta(teta = 1, n = 100):\n",
    "\n",
    "    np.random.seed(123) # set a random seed\n",
    "    #n = 100  #sample size default = 100\n",
    "    N = 100000  #number of repeatitions (repeated sampling)\n",
    "    k = 1  #true population shape parameter, fixed over the simulation\n",
    "    # when k = 1, thetahat = xbar\n",
    "    #theta = 1  #true population scale parameter, default = 1\n",
    "    #generate true population under these settings\n",
    "    pop_data = np.random.gamma(shape = k, scale = teta, size = N)\n",
    "    #generate N different samples with size of n under these settings\n",
    "    data = np.random.choice(pop_data, size = (n, N))\n",
    "    \n",
    "    xbar = data.mean(axis = 0)  #calculates xbar for each N sample\n",
    "    grand_avg = xbar.mean() #find the mean of N xbar estimates\n",
    "    grand_var = xbar.var(ddof=1)  #find the the sample variance of N xbar estimates \n",
    "    \n",
    "    fig, ax = plt.subplots(figsize = (10, 10))\n",
    "    \n",
    "    # Plot the histogram of true population\n",
    "    plt.subplot(1, 2, 1)\n",
    "    plt.hist(pop_data, bins=25, density=True, alpha=0.5, color='b')\n",
    "    plt.title(r'True population: Gamma dist. with $\\theta=%.1f, \\kappa=%.1f$' % (teta,k))\n",
    "    plt.xlabel(r'$x$')\n",
    "    \n",
    "    # Plot the histogram of sample means\n",
    "    plt.subplot(1, 2, 2)\n",
    "    plt.hist(xbar, bins=25, density=True, alpha=0.5, color='b')\n",
    "    plt.title(r\"Asymptotic distribution of $\\hat{\\theta}_{MLE}=\\frac{\\bar{X}}{\\kappa}$\")\n",
    "    plt.xlabel(r'$\\frac{\\bar{x}}{\\kappa}$')\n",
    "    #plt.ylim(0, 2) ######i need to work on upper ylim and coordinates of plt.text later######\n",
    "    #add a text\n",
    "    plt.text(1.5,1.3,\"Mean = %.4f \\n Variance = %.4f\" % (grand_avg, grand_var))      \n",
    "    \n",
    "    #side-by-side\n",
    "    fig.tight_layout()\n",
    "    plt.show()\n"
   ]
  },
  {
   "cell_type": "code",
   "execution_count": 127,
   "id": "8e64ca75-fe06-4670-8798-7ca4d51b93ec",
   "metadata": {},
   "outputs": [],
   "source": [
    "#mle_gamma_dist_theta(theta = 1, n = 10)"
   ]
  },
  {
   "cell_type": "code",
   "execution_count": 3,
   "id": "ceedaa76-4ba4-4da4-8d97-409d907c5aae",
   "metadata": {},
   "outputs": [],
   "source": [
    "theta_wid = widgets.IntSlider(min = 1, max = 10, step=1, value=1, description = r'$\\theta$')\n",
    "sample_size_wid = widgets.IntSlider(min = 0, max = 100, step=1, value=10, description = \"Sample size\")"
   ]
  },
  {
   "cell_type": "code",
   "execution_count": 11,
   "id": "8215d2a6-92fb-4ce4-8c77-d824fd94402a",
   "metadata": {},
   "outputs": [
    {
     "data": {
      "application/vnd.jupyter.widget-view+json": {
       "model_id": "ff2da09fc55f4ef591ed5323dbe61377",
       "version_major": 2,
       "version_minor": 0
      },
      "text/plain": [
       "interactive(children=(IntSlider(value=1, description='$\\\\theta$', max=10, min=1), IntSlider(value=10, descript…"
      ]
     },
     "metadata": {},
     "output_type": "display_data"
    }
   ],
   "source": [
    "widgets.interact(mle_gamma_dist_theta, teta = theta_wid, n = sample_size_wid);"
   ]
  }
 ],
 "metadata": {
  "kernelspec": {
   "display_name": "Python 3 (ipykernel)",
   "language": "python",
   "name": "python3"
  },
  "language_info": {
   "codemirror_mode": {
    "name": "ipython",
    "version": 3
   },
   "file_extension": ".py",
   "mimetype": "text/x-python",
   "name": "python",
   "nbconvert_exporter": "python",
   "pygments_lexer": "ipython3",
   "version": "3.8.12"
  }
 },
 "nbformat": 4,
 "nbformat_minor": 5
}
