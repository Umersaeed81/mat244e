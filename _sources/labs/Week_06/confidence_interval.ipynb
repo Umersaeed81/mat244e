{
 "cells": [
  {
   "cell_type": "markdown",
   "id": "d30273cf-2276-44c7-86c1-7cfafefee937",
   "metadata": {},
   "source": [
    "# Interpretation of Confidence Interval"
   ]
  },
  {
   "cell_type": "markdown",
   "id": "f6a1154a-8d06-4239-8ea3-e8983366aabc",
   "metadata": {},
   "source": [
    "In the class, we have seen that a $100(1-\\alpha)\\%$ confidence interval for $\\mu$, when the population is \n",
    "$N(\\mu, \\sigma^2)$ with known $\\sigma^2$, is:\n",
    "\n",
    "$(\\bar{X} - z_{1-\\alpha/2}*\\frac{\\sigma}{\\sqrt n}, \\bar{X} + z_{1-\\alpha/2}*\\frac{\\sigma}{\\sqrt n})$.\n"
   ]
  },
  {
   "cell_type": "markdown",
   "id": "87e98284-3898-431c-8073-941bff8cd7f3",
   "metadata": {},
   "source": [
    "Now, let's investigate the meaning of confidence interval through a simulation study based on repeatedly building confidence intervals."
   ]
  },
  {
   "cell_type": "code",
   "execution_count": 21,
   "id": "87b7b65d-b460-43d9-93b8-fb8084fd908a",
   "metadata": {},
   "outputs": [],
   "source": [
    "#import required libraries\n",
    "import numpy as np\n",
    "import scipy.stats as stats\n",
    "import matplotlib.pyplot as plt\n",
    "import math\n",
    "from IPython.display import display"
   ]
  },
  {
   "cell_type": "markdown",
   "id": "abd4ce86-406a-40f7-8312-9f0be916045d",
   "metadata": {},
   "source": [
    "Under given settings (true population mean, sigma, sample size, and confidence level), build N  $100(1-\\alpha)\\%$ confidence intervals for $\\mu$."
   ]
  },
  {
   "cell_type": "code",
   "execution_count": 22,
   "id": "9aa8cf96-1326-4fbf-8c25-17510aad099b",
   "metadata": {},
   "outputs": [],
   "source": [
    "#build up the confidence intervals\n",
    "np.random.seed(123) # set a random seed\n",
    "N = 100    #number of repetitions (repeated sampling)\n",
    "mu = 10    #true population mean\n",
    "sigma = 2  #true population standard deviation\n",
    "n = 10     #sample size \n",
    "confidence_level = 0.95  #confidence level\n",
    "two_tail_prob = (1-confidence_level)/2   \n",
    "z_value = stats.norm.ppf(q = (1-two_tail_prob))  #zvalue    \n",
    "margin_of_error = z_value * (sigma/math.sqrt(n))\n",
    "    \n",
    "sample_means = []\n",
    "intervals = []\n",
    "\n",
    "for i in range(N):\n",
    "    \n",
    "    #generate N different samples with size n under these settings\n",
    "    sample = np.random.normal(loc = mu, scale = sigma, size = n)\n",
    "    #calculate sample means\n",
    "    sample_mean = sample.mean()\n",
    "    sample_means.append(sample_mean)\n",
    "    #calculate 100(1-alpha)% confidence interval\n",
    "    confidence_interval = (sample_mean - margin_of_error, sample_mean + margin_of_error)                          \n",
    "    intervals.append(confidence_interval)\n"
   ]
  },
  {
   "cell_type": "code",
   "execution_count": 23,
   "id": "f54ced6d-e1ab-495c-8e22-0a78bc84c253",
   "metadata": {},
   "outputs": [],
   "source": [
    "# check which intervals do not cover mu\n",
    "out_of_interval = []\n",
    "\n",
    "for i in range(N):\n",
    "    if (mu < intervals[i][0] or mu > intervals[i][1]):\n",
    "        ci_interval = True\n",
    "    else:\n",
    "        ci_interval = False\n",
    "    out_of_interval.append(ci_interval)"
   ]
  },
  {
   "cell_type": "code",
   "execution_count": 20,
   "id": "9eb733cd-72bb-4be8-8706-bacc00bcec0f",
   "metadata": {},
   "outputs": [
    {
     "data": {
      "text/plain": [
       "<matplotlib.collections.LineCollection at 0x11dd60f70>"
      ]
     },
     "execution_count": 20,
     "metadata": {},
     "output_type": "execute_result"
    },
    {
     "data": {
      "image/png": "[encoded data removed]",
      "text/plain": [
       "<Figure size 576x576 with 1 Axes>"
      ]
     },
     "metadata": {
      "needs_background": "light"
     },
     "output_type": "display_data"
    }
   ],
   "source": [
    "#static version\n",
    "plt.figure(figsize=(8,8))\n",
    "\n",
    "plt.errorbar(x=np.arange(0.1, N, 1), \n",
    "             y=sample_means, \n",
    "             yerr=[(top-bot)/2 for top,bot in intervals],\n",
    "             fmt='o')\n",
    "plt.ylabel(r'$\\mu=%.0f$' % (mu), size = 14)\n",
    "plt.xlabel(r'Confidence Interval Number')\n",
    "plt.title(r\"$%.0f$ Confidence Interval Simulation\" % (confidence_level*100))\n",
    "#\\%  percantage missing\n",
    "\n",
    "plt.hlines(xmin=0, xmax=100,\n",
    "           y=10, \n",
    "           linewidth=2.0,\n",
    "           color=\"red\")"
   ]
  },
  {
   "cell_type": "markdown",
   "id": "b49cdc0e-442c-468d-88a3-1ee78286aae3",
   "metadata": {},
   "source": [
    "In above figure, it is not easy to see the confidence intervals which do not involve $\\mu$. For that reason, let's do the same through an interactive plot. "
   ]
  },
  {
   "cell_type": "code",
   "execution_count": 24,
   "id": "0b3e4f51-1cca-4316-a66c-7724b6826271",
   "metadata": {},
   "outputs": [],
   "source": [
    "# prepare the data \n",
    "# check which intervald do not invovle mu, if so, color them in red, o.w. in blue\n",
    "\n",
    "x_data = np.arange(1, (N+1), 1)\n",
    "y_data = sample_means\n",
    "err_y_data = np.repeat(margin_of_error, N)\n",
    "\n",
    "colors = []\n",
    "\n",
    "for i in range(N):\n",
    "    if out_of_interval[i] == True:\n",
    "        color = \"red\"\n",
    "    else:\n",
    "        color = \"blue\"  \n",
    "    colors.append(color)"
   ]
  },
  {
   "cell_type": "code",
   "execution_count": 25,
   "id": "fed9c8a4-dc00-4edd-bc02-e6b0bacfb933",
   "metadata": {},
   "outputs": [
    {
     "ename": "ModuleNotFoundError",
     "evalue": "No module named 'plotly'",
     "output_type": "error",
     "traceback": [
      "\u001b[0;31m---------------------------------------------------------------------------\u001b[0m",
      "\u001b[0;31mModuleNotFoundError\u001b[0m                       Traceback (most recent call last)",
      "\u001b[0;32m/var/folders/q2/wd_1zr312hs910q7lbs8tg4h0000gn/T/ipykernel_3803/3814502038.py\u001b[0m in \u001b[0;36m<module>\u001b[0;34m\u001b[0m\n\u001b[1;32m      1\u001b[0m \u001b[0;31m#use plotly\u001b[0m\u001b[0;34m\u001b[0m\u001b[0;34m\u001b[0m\u001b[0m\n\u001b[0;32m----> 2\u001b[0;31m \u001b[0;32mimport\u001b[0m \u001b[0mplotly\u001b[0m\u001b[0;34m.\u001b[0m\u001b[0mgraph_objects\u001b[0m \u001b[0;32mas\u001b[0m \u001b[0mgo\u001b[0m\u001b[0;34m\u001b[0m\u001b[0;34m\u001b[0m\u001b[0m\n\u001b[0m\u001b[1;32m      3\u001b[0m \u001b[0mfig\u001b[0m \u001b[0;34m=\u001b[0m \u001b[0mgo\u001b[0m\u001b[0;34m.\u001b[0m\u001b[0mFigure\u001b[0m\u001b[0;34m(\u001b[0m\u001b[0;34m)\u001b[0m\u001b[0;34m\u001b[0m\u001b[0;34m\u001b[0m\u001b[0m\n\u001b[1;32m      4\u001b[0m \u001b[0;34m\u001b[0m\u001b[0m\n\u001b[1;32m      5\u001b[0m fig.add_trace(go.Scatter(x=x_data, y=y_data,\n",
      "\u001b[0;31mModuleNotFoundError\u001b[0m: No module named 'plotly'"
     ]
    }
   ],
   "source": [
    "#use plotly \n",
    "import plotly.graph_objects as go\n",
    "fig = go.Figure()\n",
    "\n",
    "fig.add_trace(go.Scatter(x=x_data, y=y_data,\n",
    "                            text=np.round(y_data, 1),\n",
    "                            mode='markers',\n",
    "                            #textposition='top center',\n",
    "                            marker=dict(color=colors, size=6),\n",
    "                            showlegend=False\n",
    "            ))\n",
    "\n",
    "for i, bar in enumerate(err_y_data):\n",
    "    fig.add_trace(go.Scatter(\n",
    "                    x=[x_data[i]],\n",
    "                    y=[y_data[i]],\n",
    "                   # text=np.round(y_data, 1),\n",
    "                    mode='markers',\n",
    "                    #textposition='top center',\n",
    "                    error_y=dict(\n",
    "                        type='data',\n",
    "                        color = colors[i],\n",
    "                        array=[bar],\n",
    "                        visible=True),\n",
    "                    marker=dict(color='rgba(0,0,0,0)', size=12),\n",
    "                    showlegend=False\n",
    "                ))\n",
    "\n",
    "fig.update_layout(\n",
    "    title=r\"95% Confidence Interval Simulation\",\n",
    "    xaxis_title=\"Confidence Interval Number\",\n",
    "    yaxis_title=r'$\\mu=%.0f$' % (mu)\n",
    ")\n",
    "\n",
    "    \n",
    "fig.add_hline(y=mu)\n",
    "\n",
    "fig.show(renderer=\"colab\")"
   ]
  },
  {
   "cell_type": "markdown",
   "id": "4d62cdc7-f5a5-4f13-8d4a-20fbbddca334",
   "metadata": {},
   "source": [
    "In this repeated sampling example, now we can see that among 100 confidence intervals, 97 of them involves the true value of the population mean (if you increase the number of repetitions, it will be close to 95)."
   ]
  }
 ],
 "metadata": {
  "kernelspec": {
   "display_name": "Python 3 (ipykernel)",
   "language": "python",
   "name": "python3"
  },
  "language_info": {
   "codemirror_mode": {
    "name": "ipython",
    "version": 3
   },
   "file_extension": ".py",
   "mimetype": "text/x-python",
   "name": "python",
   "nbconvert_exporter": "python",
   "pygments_lexer": "ipython3",
   "version": "3.10.0"
  }
 },
 "nbformat": 4,
 "nbformat_minor": 5
}
