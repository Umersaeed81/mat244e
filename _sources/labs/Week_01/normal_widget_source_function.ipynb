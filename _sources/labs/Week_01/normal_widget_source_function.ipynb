{
 "cells": [
  {
   "cell_type": "markdown",
   "id": "975347a6-4081-4cd5-90d1-53e6d374ba59",
   "metadata": {},
   "source": [
    "# Calculating Probabilities Under Normal Distribution"
   ]
  },
  {
   "cell_type": "markdown",
   "id": "b1cbac23-fd16-4e1c-873c-4802cc708058",
   "metadata": {},
   "source": [
    "We can use the widget at the bottom to calculate the probabilities under normal distribution."
   ]
  },
  {
   "cell_type": "code",
   "execution_count": null,
   "id": "fedd4945-036b-4639-a513-c9f9a04054bf",
   "metadata": {},
   "outputs": [],
   "source": [
    "# import libraries\n",
    "import ipywidgets as widgets\n",
    "import numpy as np\n",
    "import matplotlib.pyplot as plt\n",
    "import scipy.stats as stats\n",
    "from IPython.display import display"
   ]
  },
  {
   "cell_type": "code",
   "execution_count": 3,
   "id": "dc0fe115-4cb9-4fa2-a072-80d3f2bd1fda",
   "metadata": {},
   "outputs": [],
   "source": [
    "def normal_dist_widget(mu = 0, sd = 1, tail = \"Lower\", bound = 0, interval = [0,1]):\n",
    "    \n",
    "    lower_bound = interval[0]\n",
    "    upper_bound = interval[1] \n",
    "    \n",
    "    #start off plotting \n",
    "    fig, ax = plt.subplots(figsize = (8, 8))\n",
    "\n",
    "    # for pdf curve\n",
    "    #generate synthetic data to plot the pdf\n",
    "    x = stats.norm.rvs(loc = mu, scale = sd, size = 10000)\n",
    "    x1 = np.sort(x)\n",
    "\n",
    "    plt.plot(x1, stats.norm.pdf(x1, loc = mu, scale = sd), \n",
    "    label = r'$\\mu=%.1f,\\sigma^2=%.1f$' % (mu, sd*sd))\n",
    "\n",
    "    # arrange x-axis limits based on the min and max values in the data\n",
    "    plt.xlim(int(np.min(x1))-3, int(np.max(x1))+3)\n",
    "    #instead of default tickmarks, define yours.\n",
    "    plt.xticks(np.arange(int(np.min(x1)), int(np.max(x1))+1, 1))\n",
    "    # arrange upper limit of y-axis max values in the pdf values (y's min value is always 0).\n",
    "    plt.ylim(0, np.max(stats.norm.pdf(x1, loc = mu, scale = sd))+0.1)\n",
    "    plt.xlabel('$x$')\n",
    "    plt.ylabel('f(x|$\\mu=%.1f,\\sigma^2=%.1f$)' % (mu, sd*sd))\n",
    "    plt.title('Probabilities under Normal Distribution')\n",
    "        \n",
    "\n",
    "    if tail == \"Lower\":\n",
    "\n",
    "        #calculate the cumulative probability under given distribution\n",
    "        cum_prob = stats.norm.cdf(x = bound, loc = mu, scale = sd)\n",
    "\n",
    "        #for shading area defined by the cumulative probability\n",
    "        #specifically generate values between int(np.min(x1)) and upper_bound with increments 0.01\n",
    "        #with np.arange(), data comes alread sorted (it creates an increasing series).\n",
    "        x2 = np.arange(int(np.min(x1))-1,bound,0.01)\n",
    "\n",
    "        #go to https://matplotlib.org/stable/api/_as_gen/matplotlib.pyplot.fill_between.html for more info\n",
    "        plt.fill_between(x2,stats.norm.pdf(x2, loc = mu, scale = sd), color='blue')\n",
    "        \n",
    "        #add a text, where x coordinate is a bit less than min x1 and y-coordinate is based on the peak point of the curve.\n",
    "        plt.text(int(np.min(x1))-2,np.max(stats.norm.pdf(x1, loc = mu, scale = sd))+0.05,\n",
    "          \"$Pr(X \\leq %.3f)=%.3f$\" % (bound, cum_prob), fontsize=14)\n",
    "        \n",
    "        plt.show()\n",
    "        \n",
    "    elif tail == \"Upper\":\n",
    "        \n",
    "        #calculate the cumulative probability under given distribution\n",
    "        complementary_prob = 1-stats.norm.cdf(x = bound, loc = mu, scale = sd)\n",
    "\n",
    "        #for shading area defined by the cumulative probability\n",
    "        #specifically generate values between lower_bound and int(np.max(x1)) with increments 0.01\n",
    "        #with np.arange(), data comes alread sorted (it creates an increasing series).\n",
    "        x2 = np.arange(bound,int(np.max(x1))+1,0.01)\n",
    "\n",
    "        #go to https://matplotlib.org/stable/api/_as_gen/matplotlib.pyplot.fill_between.html for more info\n",
    "        plt.fill_between(x2,stats.norm.pdf(x2, loc = mu, scale = sd), color='blue')\n",
    "        \n",
    "        #add a text, where x coordinate is a bit less than min x1 and y-coordinate is based on the peak point of the curve.\n",
    "        plt.text(int(np.min(x1))-2,np.max(stats.norm.pdf(x1, loc = mu, scale = sd))+0.05,\n",
    "                     \"$Pr(X \\geq %.3f)=%.3f$\" % (bound, complementary_prob), fontsize=14)\n",
    "\n",
    "\n",
    "        plt.show()\n",
    "     \n",
    "    else:\n",
    "        \n",
    "        #calculate the interval probability under given distribution\n",
    "        interval_prob = stats.norm.cdf(x = upper_bound, loc = mu, scale = sd) - stats.norm.cdf(x = lower_bound, loc = mu, scale = sd)\n",
    "        \n",
    "        #for shading area defined by the interval probability\n",
    "        #specifically generate values between lower_bound and upper_bound value with increments 0.01\n",
    "        #with np.arange(), data comes alread sorted (it creates an increasing series).\n",
    "        x2 = np.arange(lower_bound, upper_bound, 0.01)\n",
    "\n",
    "        plt.fill_between(x2,stats.norm.pdf(x2, loc = mu, scale = sd), color='blue')\n",
    "        \n",
    "        #add a text, where x coordinate is a bit less than min x1 and y-coordinate is based on the peak point of the curve.\n",
    "\n",
    "        plt.text(int(np.min(x1))-2,np.max(stats.norm.pdf(x1, loc = mu, scale = sd))+0.05,\n",
    "         \"$Pr(%.3f \\leq$ X $\\leq %.3f)=%.3f$\" % (lower_bound, upper_bound, interval_prob), fontsize=14)\n",
    "\n",
    "        plt.show()\n"
   ]
  },
  {
   "cell_type": "code",
   "execution_count": 4,
   "id": "c12b30a5-0037-4901-8869-237d5c6a034d",
   "metadata": {},
   "outputs": [],
   "source": [
    "mu_wid = widgets.IntSlider(min = -50, max = 50, step=1, value=0, description = \"Mean\")\n",
    "#display(mu_wid)"
   ]
  },
  {
   "cell_type": "code",
   "execution_count": 5,
   "id": "69852b9b-7369-4a03-b8ef-d97861551d55",
   "metadata": {},
   "outputs": [],
   "source": [
    "sd_wid = widgets.FloatSlider(min = 0.1, max = 30, step = 0.1, value = 1, description = \"Sd\", readout_format='.1f')\n",
    "#display(sd_wid)"
   ]
  },
  {
   "cell_type": "code",
   "execution_count": 6,
   "id": "c210b91b-7596-4e78-bab3-ab6d0fec5ccf",
   "metadata": {},
   "outputs": [],
   "source": [
    "tail_wid = widgets.Dropdown(options = ['Lower', 'Upper', 'Middle'], value = 'Lower', description = 'Find Area:')\n",
    "bound_wid = widgets.FloatSlider(min = -50, max = 50, step = 0.1, value = 0, description = 'a:', readout_format='.2f')\n",
    "interval_wid = widgets.FloatRangeSlider(min=-50, max=50.0, value=[-1.96, 1.96], step=0.1, description='a$<$X$<b$:', readout_format='.2f') "
   ]
  },
  {
   "cell_type": "markdown",
   "id": "56bbee6d-607d-4bb9-b401-945b1f64909d",
   "metadata": {},
   "source": [
    "Here is the instructions how the widget is working:\n",
    "1. For calculating Pr(X < a), select \"Lower\" and pick a value \"a\", \n",
    "2. For calculating Pr(X>a), select \"Upper\" and pick a value \"a\", \n",
    "3. For calculating Pr(a<X<b), select \"Middle\" and pick \"a\" and \"b\" values."
   ]
  },
  {
   "cell_type": "code",
   "execution_count": 7,
   "id": "4895ccff-ab07-48ec-850d-f329bf2b0404",
   "metadata": {},
   "outputs": [
    {
     "data": {
      "application/vnd.jupyter.widget-view+json": {
       "model_id": "579f3471aade4854a58f1dc37e4cd33c",
       "version_major": 2,
       "version_minor": 0
      },
      "text/plain": [
       "interactive(children=(IntSlider(value=0, description='Mean', max=50, min=-50), FloatSlider(value=1.0, descript…"
      ]
     },
     "metadata": {},
     "output_type": "display_data"
    }
   ],
   "source": [
    "widgets.interact(normal_dist_widget, mu = mu_wid, sd = sd_wid, tail = tail_wid, bound = bound_wid, interval = interval_wid);"
   ]
  }
 ],
 "metadata": {
  "kernelspec": {
   "display_name": "Python 3 (ipykernel)",
   "language": "python",
   "name": "python3"
  },
  "language_info": {
   "codemirror_mode": {
    "name": "ipython",
    "version": 3
   },
   "file_extension": ".py",
   "mimetype": "text/x-python",
   "name": "python",
   "nbconvert_exporter": "python",
   "pygments_lexer": "ipython3",
   "version": "3.8.12"
  },
  "toc-autonumbering": true,
  "toc-showcode": false,
  "toc-showtags": false
 },
 "nbformat": 4,
 "nbformat_minor": 5
}
