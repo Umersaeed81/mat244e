{
 "cells": [
  {
   "cell_type": "markdown",
   "id": "f167a54c-c0e6-483e-b79a-eb7615620e62",
   "metadata": {},
   "source": [
    "# Regression Analysis"
   ]
  },
  {
   "cell_type": "markdown",
   "id": "f7ef1f9e-e856-4fcb-81d2-7dd5915d19e9",
   "metadata": {},
   "source": [
    "Let's apply regression analysis on this data."
   ]
  },
  {
   "cell_type": "code",
   "execution_count": 1,
   "id": "5ac5450a-7886-4516-9858-03bfe971a011",
   "metadata": {},
   "outputs": [
    {
     "data": {
      "text/plain": [
       "{'Education': [11, 12, 13, 15, 8, 10, 11, 12, 17, 11],\n",
       " 'Income': [25, 27, 30, 41, 18, 23, 26, 24, 48, 26]}"
      ]
     },
     "execution_count": 1,
     "metadata": {},
     "output_type": "execute_result"
    }
   ],
   "source": [
    "import warnings\n",
    "warnings.filterwarnings(\"ignore\")\n",
    "import numpy as np\n",
    "import pandas as pd\n",
    "import matplotlib.pyplot as plt\n",
    "import scipy.stats as stats\n",
    "\n",
    "#present data\n",
    "data = {'Education': [11,12,13,15,8,10,11,12,17,11],\n",
    "        'Income': [25,27,30,41,18,23,26,24,48,26]} \n",
    "data"
   ]
  },
  {
   "cell_type": "code",
   "execution_count": 3,
   "id": "ca0c3d25-a950-418d-8c1b-235d3aa46ad5",
   "metadata": {},
   "outputs": [
    {
     "name": "stdout",
     "output_type": "stream",
     "text": [
      "                            OLS Regression Results                            \n",
      "==============================================================================\n",
      "Dep. Variable:                 Income   R-squared:                       0.932\n",
      "Model:                            OLS   Adj. R-squared:                  0.923\n",
      "Method:                 Least Squares   F-statistic:                     108.9\n",
      "Date:                Fri, 27 May 2022   Prob (F-statistic):           6.18e-06\n",
      "Time:                        10:44:22   Log-Likelihood:                -22.203\n",
      "No. Observations:                  10   AIC:                             48.41\n",
      "Df Residuals:                       8   BIC:                             49.01\n",
      "Df Model:                           1                                         \n",
      "Covariance Type:            nonrobust                                         \n",
      "==============================================================================\n",
      "                 coef    std err          t      P>|t|      [0.025      0.975]\n",
      "------------------------------------------------------------------------------\n",
      "const        -12.1655      4.004     -3.038      0.016     -21.400      -2.931\n",
      "Education      3.4138      0.327     10.434      0.000       2.659       4.168\n",
      "==============================================================================\n",
      "Omnibus:                        2.110   Durbin-Watson:                   2.085\n",
      "Prob(Omnibus):                  0.348   Jarque-Bera (JB):                1.025\n",
      "Skew:                          -0.771   Prob(JB):                        0.599\n",
      "Kurtosis:                       2.710   Cond. No.                         62.6\n",
      "==============================================================================\n",
      "\n",
      "Notes:\n",
      "[1] Standard Errors assume that the covariance matrix of the errors is correctly specified.\n"
     ]
    }
   ],
   "source": [
    "import statsmodels.api as sm\n",
    "\n",
    "# convert into a data frame\n",
    "df = pd.DataFrame(data,columns=['Education','Income']) \n",
    "\n",
    "# get predictor and response\n",
    "X = df['Education'] \n",
    "Y = df['Income']\n",
    "\n",
    "# Add the intercept to the design matrix\n",
    "X = sm.add_constant(X) \n",
    "\n",
    "model = sm.OLS(Y, X).fit()\n",
    "predictions = model.predict(X) \n",
    "\n",
    "print_model = model.summary()\n",
    "print(print_model)"
   ]
  },
  {
   "cell_type": "markdown",
   "id": "0845a9ba-87f8-4412-b8f2-3e55e028cdd3",
   "metadata": {},
   "source": [
    "# Interpretation of the output\n",
    "\n",
    "- The fitted regression line is:\n",
    "\n",
    "  $\\hat{y}_i=-12.166+3.414x_i.$\n",
    "  \n",
    "- Interpretation of coefficients:\n",
    "  - $Education = \\hat{\\beta}_1=3.414$ tells us that on average for each additional year of education, an individual's income rises by $\\$ 3.414$ thousand. The estimated stadandard error of $\\hat{\\beta}_1$, $se(\\hat{\\beta}_1)=0.327$. \n",
    "  - $cnst:\\hat{\\beta}_0=-12.166$. For this data, it does have any meaning since X=0 does not make sense for this data. The estimated stadandard error of $\\hat{\\beta}_0$, $se(\\hat{\\beta}_0)=4.004$.\n",
    "\n",
    "- Hypothesis testing for slope parameter:\n",
    "\n",
    "  $H_{0}:\\beta_1=0$ vs\n",
    "  $H_{1}:\\beta_1 \\neq 0$\n",
    "  \n",
    "- Under $H_{0}$, the observed value of **test statistic** is $t_{0}=\\frac{3.4138}{0.327}=10.434$.\n",
    "- The corresponding P-value is 0.000. Since P-value is less than $\\alpha=0.05$, we reject $H_{0}$ \n",
    "at $\\alpha=0.05$ level. We conclude that years spend in education is linearly associated with the indivual's\n",
    "income.\n",
    "\n",
    "- Hypothesis testing for intercept parameter:\n",
    "\n",
    "  $H_{0}:\\beta_0=0$ vs\n",
    "  $H_{1}:\\beta_0 \\neq 0$\n",
    "  \n",
    "- Under $H_{0}$, the observed value of **test statistic** is $t_{0}=\\frac{-12.1655}{4.004}=-3.038$.\n",
    "- The corresponding P-value is 2*0.016. Since P-value is less than $\\alpha=0.05$, we reject $H_{0}$ \n",
    "at $\\alpha=0.05$ level. We conclude that the intercept should be in the model.\n",
    "     \n",
    "- Confidence interval:\n",
    "\n",
    "  - A $95\\%$ confidence interval for $\\beta_1$ is $[2.659,4.168]$. We are $95\\%$ confident that true value\n",
    "  of $\\beta_1$ is between 2.659 and 4.168.\n",
    "  - A $95\\%$ confidence interval for $\\beta_0$ is $[-21.400,-2.931]$. We are $95\\%$ confident that true value\n",
    "  of $\\beta_1$ is between -21.400 and -2.931.\n",
    "\n",
    "- R-squared = 0.932 tells us that $93\\%$ of variation in income is accounted  for by a linear relationship with the variable years spent in education."
   ]
  },
  {
   "cell_type": "markdown",
   "id": "92aa6e85",
   "metadata": {},
   "source": [
    "#### Session Info"
   ]
  },
  {
   "cell_type": "code",
   "execution_count": null,
   "id": "5ceb4f26",
   "metadata": {},
   "outputs": [],
   "source": [
    "import session_info\n",
    "session_info.show()"
   ]
  }
 ],
 "metadata": {
  "kernelspec": {
   "display_name": "Python 3 (ipykernel)",
   "language": "python",
   "name": "python3"
  },
  "language_info": {
   "codemirror_mode": {
    "name": "ipython",
    "version": 3
   },
   "file_extension": ".py",
   "mimetype": "text/x-python",
   "name": "python",
   "nbconvert_exporter": "python",
   "pygments_lexer": "ipython3",
   "version": "3.8.12"
  }
 },
 "nbformat": 4,
 "nbformat_minor": 5
}
