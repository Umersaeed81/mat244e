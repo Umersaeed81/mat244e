{
 "cells": [
  {
   "cell_type": "markdown",
   "id": "b2b6da40-129d-4e9f-a922-b05af57cfba1",
   "metadata": {},
   "source": [
    "# Width of a Confidence Interval"
   ]
  },
  {
   "cell_type": "markdown",
   "id": "7adbcca7-3bb8-4bcb-a7a0-a50417728ece",
   "metadata": {},
   "source": [
    "In the class, we have seen that a $100(1-\\alpha)\\%$ confidence interval for $\\mu$, when the population is \n",
    "$N(\\mu, \\sigma^2)$ with known $\\sigma^2$, is:\n",
    "\n",
    "$(\\bar{X} - z_{1-\\alpha/2}*\\frac{\\sigma}{\\sqrt n}, \\bar{X} + z_{1-\\alpha/2}*\\frac{\\sigma}{\\sqrt n})$.\n",
    "\n",
    "The confidence interval length is: $2 * z_{1-\\alpha/2}*\\frac{\\sigma}{\\sqrt n}$."
   ]
  },
  {
   "cell_type": "code",
   "execution_count": 1,
   "id": "2f883f50-75c0-4cf4-be5f-937dfd373bde",
   "metadata": {},
   "outputs": [],
   "source": [
    "#import required libraries\n",
    "import numpy as np\n",
    "import scipy.stats as stats\n",
    "import matplotlib.pyplot as plt\n",
    "import math\n",
    "import ipywidgets as widgets\n",
    "from IPython.display import display"
   ]
  },
  {
   "cell_type": "code",
   "execution_count": 2,
   "id": "e11175a6-22f8-407c-b223-d3a508a2aab7",
   "metadata": {},
   "outputs": [],
   "source": [
    "def ci_width(conf_level, sigma, n):\n",
    "\n",
    "    mu = 10\n",
    "    sd = sigma\n",
    "    two_tail_prob = (1-conf_level)/2  \n",
    "    upper_bound = stats.norm.ppf(q = (1-two_tail_prob), loc = mu, scale = sd/math.sqrt(n))  \n",
    "    lower_bound = stats.norm.ppf(q = (two_tail_prob), loc = mu, scale = sd/math.sqrt(n))\n",
    "    \n",
    "    #start off plotting \n",
    "    fig, ax = plt.subplots(figsize = (6, 6))\n",
    "\n",
    "    #for pdf curve\n",
    "    #generate synthetic data to plot the pdf\n",
    "    xbar = stats.norm.rvs(loc = mu, scale = sd/math.sqrt(n), size = 10000)\n",
    "    xbar1 = np.sort(xbar)\n",
    "\n",
    "    plt.plot(xbar1, stats.norm.pdf(xbar1, loc = mu, scale = sd/math.sqrt(n)))\n",
    "\n",
    "    x2 = np.arange(lower_bound, upper_bound, 0.01)\n",
    "\n",
    "    plt.fill_between(x2,stats.norm.pdf(x2, loc = mu, scale = sd/math.sqrt(n)), color='blue')\n",
    "    \n",
    "    plt.text(int(np.min(xbar1))+1,np.max(stats.norm.pdf(xbar1, loc = mu, scale = sd/math.sqrt(n)))-0.05,\n",
    "         \"CI Length = $%.4f$\" % (2*(upper_bound-lower_bound)), fontsize=14)\n",
    "       \n",
    "    plt.show()"
   ]
  },
  {
   "cell_type": "code",
   "execution_count": 3,
   "id": "7fbc6b15-691a-4140-9d3b-3aa5840853a4",
   "metadata": {},
   "outputs": [],
   "source": [
    "con_level_wid = widgets.FloatSlider(min = 0.9, max = 0.99, step=0.01, value=0.95, description = \"Clevel\")\n",
    "sigma_wid = widgets.FloatSlider(min = 0.1, max = 10, step=0.1, value=1, description = \"Sigma\")\n",
    "size_wid = widgets.IntSlider(min = 1, max = 200, step=1, value=50, description = \"Size\")"
   ]
  },
  {
   "cell_type": "code",
   "execution_count": 4,
   "id": "be5423c4-44c8-42c0-b86b-45f377832924",
   "metadata": {},
   "outputs": [
    {
     "data": {
      "application/vnd.jupyter.widget-view+json": {
       "model_id": "5e86867213d748b282d3afcba4b31a21",
       "version_major": 2,
       "version_minor": 0
      },
      "text/plain": [
       "interactive(children=(FloatSlider(value=0.95, description='Clevel', max=0.99, min=0.9, step=0.01), FloatSlider…"
      ]
     },
     "metadata": {},
     "output_type": "display_data"
    }
   ],
   "source": [
    "widgets.interact(ci_width, conf_level = con_level_wid, sigma = sigma_wid, n = size_wid);\n",
    "#ci_width(conf_level = 0.99, sigma = 4, n = 100)"
   ]
  }
 ],
 "metadata": {
  "kernelspec": {
   "display_name": "Python 3 (ipykernel)",
   "language": "python",
   "name": "python3"
  },
  "language_info": {
   "codemirror_mode": {
    "name": "ipython",
    "version": 3
   },
   "file_extension": ".py",
   "mimetype": "text/x-python",
   "name": "python",
   "nbconvert_exporter": "python",
   "pygments_lexer": "ipython3",
   "version": "3.8.12"
  }
 },
 "nbformat": 4,
 "nbformat_minor": 5
}
