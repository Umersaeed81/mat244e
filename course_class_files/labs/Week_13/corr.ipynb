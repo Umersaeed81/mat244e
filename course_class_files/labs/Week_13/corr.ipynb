{
 "cells": [
  {
   "cell_type": "markdown",
   "id": "689f6e08-005e-42ab-8f80-39711730d8e8",
   "metadata": {},
   "source": [
    "# Visualize Direction of Relationships"
   ]
  },
  {
   "cell_type": "markdown",
   "id": "1c89f0a1-67d2-4ff1-986f-7c417121a252",
   "metadata": {},
   "source": [
    "- The correlation falls between -1 and 1 ($-1 \\leq r_{xy} \\leq 1$).\n",
    "- If $r_{xy} > 0$, the association is **positive**, \n",
    "- If $r_{xy} < 0$, the association is **negative**, and\n",
    "- If $r_{xy} = 0$, it indicates **no linear relationship**.\n",
    "- The **larger** the absolute value $r_{xy}$, the **stronger** the association."
   ]
  },
  {
   "cell_type": "markdown",
   "id": "84210ece-ae06-4496-8d74-24f2c84ebe04",
   "metadata": {},
   "source": [
    "Let's investigate how the scatter plot changes as the correlation changes."
   ]
  },
  {
   "cell_type": "code",
   "execution_count": 10,
   "id": "860c6ef8-70cc-4215-a2e7-9cafd39a2529",
   "metadata": {},
   "outputs": [],
   "source": [
    "# Importing the necessary libraries\n",
    "import warnings\n",
    "warnings.filterwarnings(\"ignore\")\n",
    "import ipywidgets as widgets\n",
    "import numpy as np\n",
    "import pandas as pd\n",
    "import matplotlib.pyplot as plt\n",
    "import scipy.stats as stats\n",
    "\n",
    "plt.style.use('seaborn-whitegrid')\n",
    "plt.rcParams['figure.figsize']=14,6\n",
    "\n",
    "# define a corr function with flexible corr input\n",
    "def corr_widget(corr = 0):\n",
    "    \n",
    "    # Defining the mean vector\n",
    "    mean_x_y = np.array([20,30])\n",
    "\n",
    "    # Setting sd and corr \n",
    "\n",
    "    sigma_x = 4\n",
    "    sigma_y = 5\n",
    "    corr_x_y = corr\n",
    "\n",
    "    # Defining the variance-covariance matrix\n",
    "\n",
    "    cov_x_y = np.array([[sigma_x**2, corr_x_y*sigma_x*sigma_y], [corr_x_y*sigma_x*sigma_y, sigma_y**2]])\n",
    "\n",
    "    # Generating a data based on bivariate normal distribution\n",
    "    # with given mean vector and variance-covariance matrix\n",
    "    \n",
    "    data = stats.multivariate_normal.rvs(mean = mean_x_y, cov = cov_x_y, size = 100)\n",
    "\n",
    "    # Plotting the generated samples\n",
    "    \n",
    "    plt.plot(data[:,0],data[:,1], 'o', c='blue')\n",
    "    plt.title(f'Correlation between X and Y = {corr_x_y}')\n",
    "    plt.xlabel('X')\n",
    "    plt.ylabel('Y')\n",
    "\n",
    "    plt.show()\n",
    "\n",
    "#turn it into a widget\n",
    "corr_wid = widgets.FloatSlider(min = -1, max = 1, step=0.1, value=0, description = \"$r_x_y$\")\n",
    "#display(corr_wid)    "
   ]
  },
  {
   "cell_type": "markdown",
   "id": "116ac302-e7bd-448a-a70f-8c9aff51b354",
   "metadata": {},
   "source": [
    "Now, play with the follwing slider to see how correlation changes."
   ]
  },
  {
   "cell_type": "code",
   "execution_count": 11,
   "id": "8b715b90-372d-49fa-b471-12e7cd074ff8",
   "metadata": {},
   "outputs": [
    {
     "data": {
      "application/vnd.jupyter.widget-view+json": {
       "model_id": "8a6c415f1b964f6b9b06e167d3a3bf1e",
       "version_major": 2,
       "version_minor": 0
      },
      "text/plain": [
       "interactive(children=(FloatSlider(value=0.0, description='$r_x_y$', max=1.0, min=-1.0), Output()), _dom_classe…"
      ]
     },
     "metadata": {},
     "output_type": "display_data"
    }
   ],
   "source": [
    "widgets.interact(corr_widget, corr = corr_wid);"
   ]
  },
  {
   "cell_type": "markdown",
   "id": "ebf841f8-8f8a-496d-8a04-d23898c172bc",
   "metadata": {},
   "source": [
    "## Example \n",
    "\n",
    "- An educational economist may want to build the relationship between an individual's income (in $) and education (in years).\n",
    "\n",
    "- S/he takes a random sample of 10 individuals and asks for their income (in $1000s) and education (in years). \n",
    "\n",
    "- The results are shown below: "
   ]
  },
  {
   "cell_type": "code",
   "execution_count": 12,
   "id": "452c100e-fb3e-4fc3-9e20-394ecce60227",
   "metadata": {},
   "outputs": [
    {
     "data": {
      "text/plain": [
       "{'Education': [11, 12, 13, 15, 8, 10, 11, 12, 17, 11],\n",
       " 'Income': [25, 27, 30, 41, 18, 23, 26, 24, 48, 26]}"
      ]
     },
     "execution_count": 12,
     "metadata": {},
     "output_type": "execute_result"
    }
   ],
   "source": [
    "#present data\n",
    "data = {'Education': [11,12,13,15,8,10,11,12,17,11],\n",
    "        'Income': [25,27,30,41,18,23,26,24,48,26]} \n",
    "data"
   ]
  },
  {
   "cell_type": "code",
   "execution_count": 14,
   "id": "13acf013-c110-439c-a01f-3d62d6f8d193",
   "metadata": {},
   "outputs": [
    {
     "data": {
      "image/png": "[encoded data removed]",
      "text/plain": [
       "<Figure size 1008x432 with 1 Axes>"
      ]
     },
     "metadata": {},
     "output_type": "display_data"
    }
   ],
   "source": [
    "# plot education vs income to explore the relationship\n",
    "plt.style.use('seaborn-whitegrid')\n",
    "plt.plot(data['Education'],data['Income'], 'o', c='blue')\n",
    "plt.xlim([np.min(data['Education'])-1, np.max(data['Education'])+1])\n",
    "plt.xlabel('Education in years')\n",
    "plt.ylabel('Income in $')\n",
    "plt.show()"
   ]
  },
  {
   "cell_type": "markdown",
   "id": "04a91efb-3946-4df6-9f8a-c32d44b44826",
   "metadata": {},
   "source": [
    "The scatter plot between the education (in years) and income (in dollars) shows a **linear\n",
    "relationship**. Let's compute the sample correlation coefficient $r_{xy}$ between the education and income."
   ]
  },
  {
   "cell_type": "code",
   "execution_count": 15,
   "id": "481ad202-ccf3-479d-916a-4e98a240d47a",
   "metadata": {},
   "outputs": [
    {
     "name": "stdout",
     "output_type": "stream",
     "text": [
      "[[1.        0.9651672]\n",
      " [0.9651672 1.       ]]\n"
     ]
    }
   ],
   "source": [
    "# get the corr between education and income\n",
    "corr = np.corrcoef(data['Education'],data['Income'])\n",
    "# Print the result\n",
    "print(corr)"
   ]
  },
  {
   "cell_type": "markdown",
   "id": "61425496-acd2-4a10-b9eb-85e25478628e",
   "metadata": {},
   "source": [
    "This indicates **a strong and positive** linear relationship between Education in years and Income."
   ]
  },
  {
   "cell_type": "markdown",
   "id": "4105544c",
   "metadata": {},
   "source": [
    "#### Session Info"
   ]
  },
  {
   "cell_type": "code",
   "execution_count": null,
   "id": "3823e31f",
   "metadata": {},
   "outputs": [],
   "source": [
    "import session_info\n",
    "session_info.show()"
   ]
  }
 ],
 "metadata": {
  "kernelspec": {
   "display_name": "Python 3 (ipykernel)",
   "language": "python",
   "name": "python3"
  },
  "language_info": {
   "codemirror_mode": {
    "name": "ipython",
    "version": 3
   },
   "file_extension": ".py",
   "mimetype": "text/x-python",
   "name": "python",
   "nbconvert_exporter": "python",
   "pygments_lexer": "ipython3",
   "version": "3.8.12"
  }
 },
 "nbformat": 4,
 "nbformat_minor": 5
}
