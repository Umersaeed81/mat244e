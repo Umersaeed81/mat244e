{
 "cells": [
  {
   "cell_type": "markdown",
   "id": "03003346-a249-4000-b84c-f7c66d762e8d",
   "metadata": {},
   "source": [
    "# Asymptotic Confidence Intervals"
   ]
  },
  {
   "cell_type": "markdown",
   "id": "c42fc082-73ad-449c-9c8f-9d455c1492d3",
   "metadata": {},
   "source": [
    "## Asymptotic Confidence Interval for $\\mu$ "
   ]
  },
  {
   "cell_type": "markdown",
   "id": "b8ecf57d-3ce5-4978-9bf1-404b02cc6585",
   "metadata": {},
   "source": [
    "A $100(1-\\alpha)\\%$ **asymptotic** confidence interval for $\\mu$ with a **unknown** $\\sigma^2$ is:\n",
    "$\\big[\\bar{X} - z_{1-\\alpha/2}*\\frac{s}{\\sqrt n}, \\bar{X} + z_{1-\\alpha/2}*\\frac{s}{\\sqrt n}\\big]$."
   ]
  },
  {
   "cell_type": "markdown",
   "id": "c149fbe5-f4c3-4775-ae61-24cab7ffb47f",
   "metadata": {},
   "source": [
    "Here is a simulation study example ([code main source](http://web.stanford.edu/class/stats110/notes/Chapter5/Large_sample_CI.html))."
   ]
  },
  {
   "cell_type": "code",
   "execution_count": 37,
   "id": "5f799e81-5a8f-4c20-b802-384bb842de9f",
   "metadata": {},
   "outputs": [],
   "source": [
    "import numpy as np\n",
    "import matplotlib.pyplot as plt\n",
    "from scipy.stats import stats\n",
    "\n",
    "def CI_mean(X, confidence=0.95):\n",
    "    alpha = 1 - confidence\n",
    "    X = np.asarray(X)\n",
    "    n = X.shape[0]\n",
    "    Xbar = np.mean(X)\n",
    "    s = np.std(X, ddof = 1) \n",
    "    quantile = stats.norm.ppf(q = (1 - alpha/2))\n",
    "    lower = Xbar - quantile * s / np.sqrt(n)\n",
    "    upper = Xbar + quantile * s / np.sqrt(n)\n",
    "    \n",
    "    return lower, upper"
   ]
  },
  {
   "cell_type": "code",
   "execution_count": 33,
   "id": "41746415-6e6e-4ff1-acaf-9a3dc0ef492e",
   "metadata": {},
   "outputs": [],
   "source": [
    "myrv = expon(scale=4)"
   ]
  },
  {
   "cell_type": "code",
   "execution_count": 16,
   "id": "bde15c5e-07ba-435e-aaaa-76cfd1f5a2fc",
   "metadata": {},
   "outputs": [
    {
     "data": {
      "text/plain": [
       "(True, (3.9041437649836688, 4.130277813595987))"
      ]
     },
     "execution_count": 16,
     "metadata": {},
     "output_type": "execute_result"
    }
   ],
   "source": [
    "#myrv = expon(scale=4)\n",
    "#X = myrv.rvs(size=(40,))\n",
    "L, U = CI(X, 0.95)\n",
    "(L < myrv.mean()) * (U > myrv.mean()), (L, U)"
   ]
  },
  {
   "cell_type": "code",
   "execution_count": 36,
   "id": "e7f93a7c-b08f-4205-848f-f5fdf196f7a0",
   "metadata": {},
   "outputs": [
    {
     "data": {
      "text/plain": [
       "Text(0.5, 1.0, '89 of 100 cover the true mean')"
      ]
     },
     "execution_count": 36,
     "metadata": {},
     "output_type": "execute_result"
    },
    {
     "data": {
      "image/png": "[encoded data removed]",
      "text/plain": [
       "<Figure size 720x576 with 1 Axes>"
      ]
     },
     "metadata": {
      "needs_background": "light"
     },
     "output_type": "display_data"
    }
   ],
   "source": [
    "ninterval = 100\n",
    "f = plt.figure(figsize=(10, 8))\n",
    "ax = f.gca()\n",
    "covered = 0\n",
    "for i in range(ninterval):\n",
    "    X = myrv.rvs(size=(100,))\n",
    "    L, U = CI(X, confidence=0.9)\n",
    "    cover = (L < myrv.mean()) * (U > myrv.mean())\n",
    "    ax.plot([L, U], [i, i], color={True:'blue', False:'red'}[cover])\n",
    "    ax.axvline(myrv.mean(), c='k', linestyle='--')\n",
    "    covered += cover\n",
    "ax.set_title('%d of %d cover the true mean' % (covered, ninterval))"
   ]
  },
  {
   "cell_type": "markdown",
   "id": "25e8907f-c277-4b2b-81a6-332d6ef6091e",
   "metadata": {},
   "source": [
    "## Asymptotic Confidence Interval for Population Proportion p "
   ]
  },
  {
   "cell_type": "markdown",
   "id": "2aa6deb9-b194-4f26-8ff1-a5ef89da37db",
   "metadata": {},
   "source": [
    "A $100(1-\\alpha)\\%$ **asymptotic** confidence interval for p is:\n",
    "$\\big[\\hat{p} - z_{1-\\alpha/2}*\\sqrt\\frac{\\hat{p}(1-\\hat{p})}{n}, \\bar{X} + z_{1-\\alpha/2}*\\frac{s}{\\sqrt n}\\big]$."
   ]
  },
  {
   "cell_type": "code",
   "execution_count": 44,
   "id": "5331ee3c-e4af-4a42-84dc-e4d760308a7a",
   "metadata": {},
   "outputs": [],
   "source": [
    "import statsmodels.api as sm\n",
    "from statsmodels.stats.proportion import proportion_confint   "
   ]
  },
  {
   "cell_type": "code",
   "execution_count": 46,
   "id": "0587e153-d025-4930-bd14-a24f0dcd3905",
   "metadata": {},
   "outputs": [
    {
     "data": {
      "text/plain": [
       "(0.3134368253908742, 0.5327170207629719)"
      ]
     },
     "execution_count": 46,
     "metadata": {},
     "output_type": "execute_result"
    }
   ],
   "source": [
    "proportion_confint(count = 33, nobs = 78, alpha=0.05, method='normal')"
   ]
  },
  {
   "cell_type": "code",
   "execution_count": null,
   "id": "62492e00-4d61-445e-9868-0737b4d9a462",
   "metadata": {},
   "outputs": [],
   "source": []
  }
 ],
 "metadata": {
  "kernelspec": {
   "display_name": "Python 3 (ipykernel)",
   "language": "python",
   "name": "python3"
  },
  "language_info": {
   "codemirror_mode": {
    "name": "ipython",
    "version": 3
   },
   "file_extension": ".py",
   "mimetype": "text/x-python",
   "name": "python",
   "nbconvert_exporter": "python",
   "pygments_lexer": "ipython3",
   "version": "3.8.12"
  }
 },
 "nbformat": 4,
 "nbformat_minor": 5
}
