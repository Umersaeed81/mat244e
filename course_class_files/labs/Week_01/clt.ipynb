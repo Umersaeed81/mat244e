{
 "cells": [
  {
   "cell_type": "markdown",
   "id": "28c29440-8082-4c5f-87ee-9bb0e1cbd2a1",
   "metadata": {},
   "source": [
    "# Central Limit Theorem"
   ]
  },
  {
   "cell_type": "markdown",
   "id": "d119cd36-49e2-4b66-b06b-cb9dcc3e901b",
   "metadata": {},
   "source": [
    "We would like to investigate the sampling distribution of $\\bar{X}$ under 1) normal and 2) non-normal distributions."
   ]
  },
  {
   "cell_type": "code",
   "execution_count": 1,
   "id": "6fef8bed-7501-4632-a2ac-08e9dc71d3b3",
   "metadata": {},
   "outputs": [],
   "source": [
    "import warnings\n",
    "warnings.filterwarnings(\"ignore\")"
   ]
  },
  {
   "cell_type": "code",
   "execution_count": 3,
   "id": "d074f5bd-d8e7-4534-80a4-d887988bc32f",
   "metadata": {},
   "outputs": [],
   "source": [
    "#import required libraries\n",
    "import numpy as np\n",
    "import matplotlib.pyplot as plt\n",
    "import scipy.stats as stats\n",
    "import ipywidgets as widgets\n",
    "from IPython.display import display"
   ]
  },
  {
   "cell_type": "markdown",
   "id": "72e1de84-d3fa-4327-a012-b665f19a2158",
   "metadata": {},
   "source": [
    "Let's start with an example where **the true population distribution is standard normal**."
   ]
  },
  {
   "cell_type": "code",
   "execution_count": 1,
   "id": "4be1e1c3-973b-4bc5-9bc1-6dc00adac621",
   "metadata": {},
   "outputs": [],
   "source": [
    "#np.random.seed(1773) \n",
    "\n",
    "##an example for clt when the true pop is standard normal\n",
    "\n",
    "def clt_norm_true(Sim_no = 500,n = 25):\n",
    "    \n",
    "    ##input paramaters (arguments)\n",
    "    ##Sim_no: Number of simulations (experiments)\n",
    "    ##n: Number of data points that will be selected from the true population without replacement.\n",
    "    \n",
    "    ##Fixed values\n",
    "    ##true population size\n",
    "    N = 10000\n",
    "    ##true population mean\n",
    "    mu = 0\n",
    "    ##true population sd\n",
    "    sigma = 1\n",
    "\n",
    "    # Generate true population under normal distribution\n",
    "    data = stats.norm.rvs(loc = mu, scale = sigma, size = N)\n",
    "\n",
    "    ##Simulation settings\n",
    "    \n",
    "    # select sim_no number of samples of size n from true population\n",
    "    # create an empty data size of sim_no by n\n",
    "\n",
    "    samples = np.empty((Sim_no, n))\n",
    "\n",
    "    for i in range(0, Sim_no): \n",
    "        sample_data = np.random.choice(data, size=n) # select one sample of size n from true pop.\n",
    "        #repeat this process Sim_no times and store the data\n",
    "        samples[i] = sample_data \n",
    "\n",
    "    #calculate the row.means (calculate mean across the columns, axis = 1)\n",
    "    #returns a vector of sim_no by 1\n",
    "    \n",
    "    sample_means = np.mean(samples, axis=1)\n",
    "    \n",
    "    ## figure settings\n",
    "    \n",
    "    fig, ax = plt.subplots(figsize = (7, 7))\n",
    "    \n",
    "    # Plot the histogram of true population\n",
    "    plt.subplot(1, 2, 1)\n",
    "    plt.hist(data, bins=25, density=True, alpha=0.5, color='b')\n",
    "    plt.title('True population with $\\mu=%.1f,\\sigma^2=%.1f$' % (mu, sigma*sigma))\n",
    "    plt.xlabel(r'$x$')\n",
    "    \n",
    "    # Plot the histogram of sample means\n",
    "    plt.subplot(1, 2, 2)\n",
    "    plt.hist(sample_means, bins=25, density=True, alpha=0.5, color='b')\n",
    "    plt.title(r\"Sampling distribution of $\\bar{X}$\")\n",
    "    plt.xlabel(r'$\\bar{x}$')\n",
    "    #plt.ylim(0, 2) ######i need to work on upper ylim and coordinates of plt.text later######\n",
    "    #add a text\n",
    "    plt.text(-0.2,1.5,\n",
    "          \"Mean = %.4f \\n Standard error = %.4f\" % (np.mean(sample_means), np.std(sample_means)))\n",
    "    #side-by-side\n",
    "    fig.tight_layout()\n",
    "    plt.show()"
   ]
  },
  {
   "cell_type": "code",
   "execution_count": 4,
   "id": "1929aa2a-50cc-449a-b61f-a5e8b92fef6c",
   "metadata": {},
   "outputs": [],
   "source": [
    "nsample_wid = widgets.IntSlider(min = 0, max = 1000, step=10, value=500, description = \"Number of samples drawn\")\n",
    "sample_size_wid = widgets.IntSlider(min = 0, max = 100, step=1, value=10, description = \"Sample size\")"
   ]
  },
  {
   "cell_type": "code",
   "execution_count": 5,
   "id": "edbb97b4-1971-45d3-9f35-9c609810906d",
   "metadata": {},
   "outputs": [
    {
     "data": {
      "application/vnd.jupyter.widget-view+json": {
       "model_id": "8d6754ac925a4902bf0003e560d0d902",
       "version_major": 2,
       "version_minor": 0
      },
      "text/plain": [
       "interactive(children=(IntSlider(value=500, description='Number of samples drawn', max=1000, step=10), IntSlide…"
      ]
     },
     "metadata": {},
     "output_type": "display_data"
    }
   ],
   "source": [
    "widgets.interact(clt_norm_true, Sim_no = nsample_wid, n = sample_size_wid);"
   ]
  },
  {
   "cell_type": "markdown",
   "id": "445f2bc8-24b6-4d43-806e-0ad6aee95fea",
   "metadata": {},
   "source": [
    "Let's start with an example where the **true population distribution is exponential distribution**."
   ]
  },
  {
   "cell_type": "code",
   "execution_count": 6,
   "id": "71921cd9-b09b-4214-b4be-57b6fb788215",
   "metadata": {},
   "outputs": [],
   "source": [
    "#np.random.seed(1773) \n",
    "\n",
    "##an example for clt when the true pop is exponential\n",
    "\n",
    "def clt_exp_true(Sim_no = 500,n = 25):\n",
    "    \n",
    "    ##input paramaters (arguments)\n",
    "    ##Sim_no: Number of simulations (experiments)\n",
    "    ##n:Number of data points that will be selected from the true population without replacement.\n",
    "    \n",
    "    ##Fixed values\n",
    "    ##true population size\n",
    "    N = 10000\n",
    "    ##true population scale \n",
    "    lam = 1 #default\n",
    "\n",
    "    # Generate true population under normal distribution\n",
    "    data = stats.expon.rvs(scale = lam, size = N)\n",
    "\n",
    "    ##Simulation settings\n",
    "    \n",
    "    # select sim_no number of samples of size n from true population\n",
    "    # create an empty data size of sim_no by n\n",
    "\n",
    "    samples = np.empty((Sim_no, n))\n",
    "\n",
    "    for i in range(0, Sim_no): \n",
    "        sample_data = np.random.choice(data, size=n) # select one sample of size n from true pop.\n",
    "        #repeat this process Sim_no times and store the data\n",
    "        samples[i] = sample_data \n",
    "\n",
    "    #calculate the row.means (calculate mean across the columns, axis = 1)\n",
    "    #returns a vector of sim_no by 1\n",
    "    \n",
    "    sample_means = np.mean(samples, axis=1)\n",
    "    \n",
    "    ## figure settings\n",
    "    \n",
    "    fig, ax = plt.subplots(figsize = (7, 7))\n",
    "    \n",
    "    # Plot the histogram of true population\n",
    "    plt.subplot(1, 2, 1)\n",
    "    plt.hist(data, bins=25, density=True, alpha=0.5, color='b')\n",
    "    plt.title('True population with $\\lambda=%.1f$' % (lam))\n",
    "    plt.xlabel(r'$x$')\n",
    "        \n",
    "    # Plot the histogram of sample means\n",
    "    plt.subplot(1, 2, 2)\n",
    "    plt.hist(sample_means, bins=25, density=True, alpha=0.5, color='b')\n",
    "    plt.title(r\"Sampling distribution of $\\bar{X}$\")\n",
    "    plt.xlabel(r'$\\bar{x}$')\n",
    "    #plt.ylim(0, 2) ######i need to work on upper ylim and coordinates of plt.text later######\n",
    "    #add a text\n",
    "    plt.text(1,1.5,\n",
    "          \"Mean = %.4f \\n Standard error = %.4f\" % (np.mean(sample_means), np.std(sample_means)))\n",
    "    #side-by-side\n",
    "    fig.tight_layout()\n",
    "    plt.show()"
   ]
  },
  {
   "cell_type": "code",
   "execution_count": 7,
   "id": "bcfa6385-2df7-4f3c-98a4-342bbb27dd19",
   "metadata": {},
   "outputs": [],
   "source": [
    "nsample_wid = widgets.IntSlider(min = 0, max = 1000, step=10, value=500, description = \"Number of samples drawn\")\n",
    "sample_size_wid = widgets.IntSlider(min = 0, max = 100, step=1, value=10, description = \"Sample size\")"
   ]
  },
  {
   "cell_type": "code",
   "execution_count": 8,
   "id": "8f521f21-5331-4006-828d-8e437ed536ab",
   "metadata": {},
   "outputs": [
    {
     "data": {
      "application/vnd.jupyter.widget-view+json": {
       "model_id": "25c00e4f1ab04c849283733063ec0894",
       "version_major": 2,
       "version_minor": 0
      },
      "text/plain": [
       "interactive(children=(IntSlider(value=500, description='Number of samples drawn', max=1000, step=10), IntSlide…"
      ]
     },
     "metadata": {},
     "output_type": "display_data"
    }
   ],
   "source": [
    "widgets.interact(clt_exp_true, Sim_no = nsample_wid, n = sample_size_wid);"
   ]
  },
  {
   "cell_type": "code",
   "execution_count": 9,
   "id": "f00706f5-2890-4ea0-acf0-c6b1751c9b3d",
   "metadata": {},
   "outputs": [],
   "source": [
    "## Turning these widgets into a Dashboard kept as a future work."
   ]
  }
 ],
 "metadata": {
  "kernelspec": {
   "display_name": "Python 3 (ipykernel)",
   "language": "python",
   "name": "python3"
  },
  "language_info": {
   "codemirror_mode": {
    "name": "ipython",
    "version": 3
   },
   "file_extension": ".py",
   "mimetype": "text/x-python",
   "name": "python",
   "nbconvert_exporter": "python",
   "pygments_lexer": "ipython3",
   "version": "3.8.12"
  }
 },
 "nbformat": 4,
 "nbformat_minor": 5
}
