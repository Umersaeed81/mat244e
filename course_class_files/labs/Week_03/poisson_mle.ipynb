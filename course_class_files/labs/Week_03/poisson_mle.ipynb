{
 "cells": [
  {
   "cell_type": "markdown",
   "id": "de0c576f-1a31-4068-ba00-c80c2423e391",
   "metadata": {
    "tags": []
   },
   "source": [
    "# MLE for Poisson Distribution"
   ]
  },
  {
   "cell_type": "markdown",
   "id": "af41dce5-fc3a-4016-ae61-3d7dca7c1d86",
   "metadata": {},
   "source": [
    "**Poisson Example:** In a study, researchers are interested in anayzing co-speech gestures (arm and hand movements accompanying the speech) by Katalan and Korean speakers. The data below comes from study in which participants watched a cartoon and then told a partner (a friend or a professor) about what they had seen. The data is available as a `.csv` file in the following [Github repository](https://github.com/bodowinter/poisson_tutorial/blob/main/dyads.csv). \n",
    "\n",
    "If you place the word `flat` at the beginning of data url you can quickly view data as a [Flat Data](https://next.github.com/projects/flat-data/) as given [here](https://flatgithub.com/bodowinter/poisson_tutorial/blob/main/dyads.csv?filename=dyads.csv&sha=8ec33096abe1ee1ec389b05b3b4490e3dac37304)."
   ]
  },
  {
   "cell_type": "markdown",
   "id": "9f55c306-f0cd-4575-8116-9c9c85d557b1",
   "metadata": {},
   "source": [
    "**Question:** Assuming that the number of gestures follows a Poisson distribution with a mean parameter $\\lambda$. Find the maximum likelihood estimate of $\\lambda$ based on this sample."
   ]
  },
  {
   "cell_type": "code",
   "execution_count": 18,
   "id": "a62d4e4c-0984-46b1-9bfc-f125cc83b4f3",
   "metadata": {},
   "outputs": [],
   "source": [
    "#turn off warnings\n",
    "import warnings\n",
    "warnings.filterwarnings(\"ignore\")"
   ]
  },
  {
   "cell_type": "code",
   "execution_count": 19,
   "id": "0a6d820b-23ba-4cf4-850d-a408d625b7f6",
   "metadata": {},
   "outputs": [],
   "source": [
    "#import required libraries\n",
    "import pandas as pd\n",
    "import numpy as np\n",
    "from scipy.special import factorial\n",
    "import matplotlib.pyplot as plt"
   ]
  },
  {
   "cell_type": "markdown",
   "id": "04734ff0-3dc6-4b6d-86f1-f3fc4805a246",
   "metadata": {},
   "source": [
    "First import the data, check its shape (size), and hava a look at a few first lines. Please note that to read a `.csv` file from a `GitHub` repository, first go to the url where the data is available, click on the data set, then a preview window will open, and click on the `Raw data` button, copy thins url and paste it into `pd.read_csv`."
   ]
  },
  {
   "cell_type": "code",
   "execution_count": 23,
   "id": "ee9f0f39-b041-4b17-ae7a-cb8a7f346dd7",
   "metadata": {},
   "outputs": [],
   "source": [
    "gesture_data = pd.read_csv(\"https://raw.githubusercontent.com/bodowinter/poisson_tutorial/main/dyads.csv\")"
   ]
  },
  {
   "cell_type": "code",
   "execution_count": 24,
   "id": "6f92c90b-5037-4b68-88f4-4fa73afbbadc",
   "metadata": {},
   "outputs": [
    {
     "data": {
      "text/plain": [
       "(54, 6)"
      ]
     },
     "execution_count": 24,
     "metadata": {},
     "output_type": "execute_result"
    }
   ],
   "source": [
    "#size of the data frame\n",
    "gesture_data.shape"
   ]
  },
  {
   "cell_type": "code",
   "execution_count": 156,
   "id": "7aa5fa12-ad62-4052-878e-e68d080ebae6",
   "metadata": {},
   "outputs": [
    {
     "data": {
      "text/html": [
       "<div>\n",
       "<style scoped>\n",
       "    .dataframe tbody tr th:only-of-type {\n",
       "        vertical-align: middle;\n",
       "    }\n",
       "\n",
       "    .dataframe tbody tr th {\n",
       "        vertical-align: top;\n",
       "    }\n",
       "\n",
       "    .dataframe thead th {\n",
       "        text-align: right;\n",
       "    }\n",
       "</style>\n",
       "<table border=\"1\" class=\"dataframe\">\n",
       "  <thead>\n",
       "    <tr style=\"text-align: right;\">\n",
       "      <th></th>\n",
       "      <th>ID</th>\n",
       "      <th>context</th>\n",
       "      <th>dur</th>\n",
       "      <th>language</th>\n",
       "      <th>gender</th>\n",
       "      <th>gestures</th>\n",
       "    </tr>\n",
       "  </thead>\n",
       "  <tbody>\n",
       "    <tr>\n",
       "      <th>0</th>\n",
       "      <td>Catalan_1</td>\n",
       "      <td>friend</td>\n",
       "      <td>137</td>\n",
       "      <td>Catalan</td>\n",
       "      <td>M</td>\n",
       "      <td>61</td>\n",
       "    </tr>\n",
       "    <tr>\n",
       "      <th>1</th>\n",
       "      <td>Catalan_1</td>\n",
       "      <td>prof</td>\n",
       "      <td>136</td>\n",
       "      <td>Catalan</td>\n",
       "      <td>M</td>\n",
       "      <td>78</td>\n",
       "    </tr>\n",
       "    <tr>\n",
       "      <th>2</th>\n",
       "      <td>Catalan_11</td>\n",
       "      <td>friend</td>\n",
       "      <td>117</td>\n",
       "      <td>Catalan</td>\n",
       "      <td>F</td>\n",
       "      <td>61</td>\n",
       "    </tr>\n",
       "    <tr>\n",
       "      <th>3</th>\n",
       "      <td>Catalan_11</td>\n",
       "      <td>prof</td>\n",
       "      <td>165</td>\n",
       "      <td>Catalan</td>\n",
       "      <td>F</td>\n",
       "      <td>73</td>\n",
       "    </tr>\n",
       "    <tr>\n",
       "      <th>4</th>\n",
       "      <td>Catalan_12</td>\n",
       "      <td>friend</td>\n",
       "      <td>134</td>\n",
       "      <td>Catalan</td>\n",
       "      <td>M</td>\n",
       "      <td>58</td>\n",
       "    </tr>\n",
       "    <tr>\n",
       "      <th>5</th>\n",
       "      <td>Catalan_12</td>\n",
       "      <td>prof</td>\n",
       "      <td>132</td>\n",
       "      <td>Catalan</td>\n",
       "      <td>M</td>\n",
       "      <td>51</td>\n",
       "    </tr>\n",
       "    <tr>\n",
       "      <th>6</th>\n",
       "      <td>Catalan_13</td>\n",
       "      <td>friend</td>\n",
       "      <td>180</td>\n",
       "      <td>Catalan</td>\n",
       "      <td>M</td>\n",
       "      <td>101</td>\n",
       "    </tr>\n",
       "    <tr>\n",
       "      <th>7</th>\n",
       "      <td>Catalan_13</td>\n",
       "      <td>prof</td>\n",
       "      <td>173</td>\n",
       "      <td>Catalan</td>\n",
       "      <td>M</td>\n",
       "      <td>82</td>\n",
       "    </tr>\n",
       "    <tr>\n",
       "      <th>8</th>\n",
       "      <td>Catalan_14</td>\n",
       "      <td>friend</td>\n",
       "      <td>160</td>\n",
       "      <td>Catalan</td>\n",
       "      <td>M</td>\n",
       "      <td>56</td>\n",
       "    </tr>\n",
       "    <tr>\n",
       "      <th>9</th>\n",
       "      <td>Catalan_14</td>\n",
       "      <td>prof</td>\n",
       "      <td>172</td>\n",
       "      <td>Catalan</td>\n",
       "      <td>M</td>\n",
       "      <td>74</td>\n",
       "    </tr>\n",
       "  </tbody>\n",
       "</table>\n",
       "</div>"
      ],
      "text/plain": [
       "           ID context  dur language gender  gestures\n",
       "0   Catalan_1  friend  137  Catalan      M        61\n",
       "1   Catalan_1    prof  136  Catalan      M        78\n",
       "2  Catalan_11  friend  117  Catalan      F        61\n",
       "3  Catalan_11    prof  165  Catalan      F        73\n",
       "4  Catalan_12  friend  134  Catalan      M        58\n",
       "5  Catalan_12    prof  132  Catalan      M        51\n",
       "6  Catalan_13  friend  180  Catalan      M       101\n",
       "7  Catalan_13    prof  173  Catalan      M        82\n",
       "8  Catalan_14  friend  160  Catalan      M        56\n",
       "9  Catalan_14    prof  172  Catalan      M        74"
      ]
     },
     "execution_count": 156,
     "metadata": {},
     "output_type": "execute_result"
    }
   ],
   "source": [
    "#let's see the first 10 rows\n",
    "gesture_data.head(n = 10) "
   ]
  },
  {
   "cell_type": "markdown",
   "id": "370b908b-12a6-4e6b-9f35-c022f0c98dd2",
   "metadata": {},
   "source": [
    "Get the gestures column only and change its name."
   ]
  },
  {
   "cell_type": "code",
   "execution_count": 8,
   "id": "6b57de0a-7ef6-4af6-8eb8-b98a52ee2e09",
   "metadata": {},
   "outputs": [],
   "source": [
    "#get only the gestures column\n",
    "data = gesture_data.gestures"
   ]
  },
  {
   "cell_type": "markdown",
   "id": "c06676dc-9f8a-44b8-ad3c-09ccfdb9e9da",
   "metadata": {},
   "source": [
    "Check the mean."
   ]
  },
  {
   "cell_type": "code",
   "execution_count": 124,
   "id": "2fe7d0ed-2b13-49f8-bf45-2951ddc34dd9",
   "metadata": {},
   "outputs": [
    {
     "data": {
      "text/plain": [
       "49.44444444444444"
      ]
     },
     "execution_count": 124,
     "metadata": {},
     "output_type": "execute_result"
    }
   ],
   "source": [
    "np.mean(data)"
   ]
  },
  {
   "cell_type": "code",
   "execution_count": 9,
   "id": "4bc2c555-b8e0-4b14-9fd9-0cc6c6b44467",
   "metadata": {},
   "outputs": [],
   "source": [
    "#creater a grid vector for lambda\n",
    "lambd = np.arange(1, 1000, 1)\n",
    "#print(lambd)"
   ]
  },
  {
   "cell_type": "markdown",
   "id": "26a025cc-fb8d-4bdb-b4bc-9c307f40a356",
   "metadata": {},
   "source": [
    "Define a function which calculates the MLE of the data under a Poisson distribution. This function requires two parameters: data and a vector of possible values for $\\lambda$ parameter. Then, the function calculates the log-likelihood of the data for each $\\lambda$ value, and plot log-likelihood values versus $\\lambda$ values. The $\\hat \\lambda$ where the curve the attains a maximum can considered as the maximum likelihood estimate for $\\lambda$."
   ]
  },
  {
   "cell_type": "code",
   "execution_count": 12,
   "id": "aa02eaef-1ad5-4000-90ac-62cffea9eb64",
   "metadata": {},
   "outputs": [],
   "source": [
    "def poisson_loglik(data, lambd):\n",
    "    \n",
    "    #fixed values\n",
    "    n = np.size(data)\n",
    "    sum_x = np.sum(data)\n",
    "    sum_in_x_factorial = np.sum(np.log(factorial(data)))\n",
    "    \n",
    "    #define log_likelihood\n",
    "    log_lik = -lambd*n + sum_x * np.log(lambd)-sum_in_x_factorial\n",
    "    \n",
    "    # plot log-lik versus lambda values\n",
    "    fig, ax = plt.subplots(figsize = (6, 6))\n",
    "\n",
    "    plt.plot(lambd, log_lik)  \n",
    "    plt.axvline(x=lambd[np.argmax(log_lik)], color='r') #find the lambda where log-lik is a maximum.\n",
    "    ax.text(49, -48000, '49', color='red', ha='center', va='top') #not a smart way         \n",
    "    plt.xlabel(r'$\\lambda$')\n",
    "    plt.ylabel('Log-likelihood value')\n",
    "    plt.title('Log-likelihood of gestures data under Poisson Distribution')\n",
    "    plt.legend(loc='upper right')\n",
    "    plt.show()"
   ]
  },
  {
   "cell_type": "code",
   "execution_count": 11,
   "id": "880212da-bff0-4272-af56-a9eaf994f25d",
   "metadata": {},
   "outputs": [
    {
     "name": "stderr",
     "output_type": "stream",
     "text": [
      "No handles with labels found to put in legend.\n"
     ]
    },
    {
     "data": {
      "image/png": "[encoded data removed]",
      "text/plain": [
       "<Figure size 432x432 with 1 Axes>"
      ]
     },
     "metadata": {
      "needs_background": "light"
     },
     "output_type": "display_data"
    }
   ],
   "source": [
    "poisson_loglik(data = gesture_data.gestures, lambd = lambd)"
   ]
  },
  {
   "cell_type": "markdown",
   "id": "c2753785-5877-4607-becd-1791dc05d133",
   "metadata": {},
   "source": [
    "The $\\hat \\lambda$ = 49 is the MLE for $\\lambda$."
   ]
  },
  {
   "cell_type": "markdown",
   "id": "756a48b7-605b-45f6-b206-c8d964a79b78",
   "metadata": {},
   "source": [
    "Some optimzation routines in Python may prefer minimizing an objective function. In that case, we need to define negative log-likelihood. In such a case, the $\\hat \\lambda$ where the curve the attains a minimum can considered as the maximum likelihood estimate for $\\lambda$."
   ]
  },
  {
   "cell_type": "code",
   "execution_count": 15,
   "id": "a5b93362-1288-4b81-b80b-ace7d2b33b35",
   "metadata": {},
   "outputs": [],
   "source": [
    "def poisson_negloglik(data, lambd):\n",
    "    \n",
    "    #fixed values\n",
    "    n = np.size(data)\n",
    "    sum_x = np.sum(data)\n",
    "    sum_in_x_factorial = np.sum(np.log(factorial(data)))\n",
    "    \n",
    "    #define log_likelihood\n",
    "    log_lik = -lambd*n + sum_x * np.log(lambd)-sum_in_x_factorial\n",
    "    \n",
    "    neg_log_lik = -log_lik\n",
    "    \n",
    "    # plot neg-log-lik versus lambda values\n",
    "    fig, ax = plt.subplots(figsize = (6, 6))\n",
    "\n",
    "    plt.plot(lambd, neg_log_lik)  \n",
    "    plt.axvline(x=lambd[np.argmin(neg_log_lik)], color='r') #find the lambda where neg_log-lik is a minimum.\n",
    "    ax.text(49, -3000, '49', color='red', ha='center', va='top') #not a smart way         \n",
    "    plt.xlabel(r'$\\lambda$')\n",
    "    plt.ylabel('Negative log-likelihood value')\n",
    "    plt.title('Log-likelihood of gestures data under Poisson Distribution')\n",
    "    plt.legend(loc='upper right')\n",
    "    plt.show()"
   ]
  },
  {
   "cell_type": "code",
   "execution_count": 16,
   "id": "1d6cc3ee-e41f-4bcd-af13-01911ea7f15b",
   "metadata": {},
   "outputs": [
    {
     "name": "stderr",
     "output_type": "stream",
     "text": [
      "No handles with labels found to put in legend.\n"
     ]
    },
    {
     "data": {
      "image/png": "[encoded data removed]",
      "text/plain": [
       "<Figure size 432x432 with 1 Axes>"
      ]
     },
     "metadata": {
      "needs_background": "light"
     },
     "output_type": "display_data"
    }
   ],
   "source": [
    "poisson_negloglik(data = gesture_data.gestures, lambd = lambd)"
   ]
  }
 ],
 "metadata": {
  "kernelspec": {
   "display_name": "Python 3 (ipykernel)",
   "language": "python",
   "name": "python3"
  },
  "language_info": {
   "codemirror_mode": {
    "name": "ipython",
    "version": 3
   },
   "file_extension": ".py",
   "mimetype": "text/x-python",
   "name": "python",
   "nbconvert_exporter": "python",
   "pygments_lexer": "ipython3",
   "version": "3.8.12"
  }
 },
 "nbformat": 4,
 "nbformat_minor": 5
}
